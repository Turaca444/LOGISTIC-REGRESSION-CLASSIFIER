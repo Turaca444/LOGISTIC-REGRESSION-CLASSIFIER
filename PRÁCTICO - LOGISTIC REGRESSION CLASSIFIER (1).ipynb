{
 "cells": [
  {
   "cell_type": "markdown",
   "id": "fcc21a0d",
   "metadata": {},
   "source": [
    "### Instituto Superior Politécnico Córdoba ==== Ciencia de Datos e Inteligencia Artificial ###\n",
    "\n",
    "Profesor: Perez Narcizo\n",
    "    \n",
    "Alumno: Medina Jorge Sebastián  \n",
    "\n",
    "Logistic Regression Classifier\n",
    "\n"
   ]
  },
  {
   "cell_type": "markdown",
   "id": "2162ceb2",
   "metadata": {},
   "source": [
    "IMPORTACIÓN DE LIBRERIAS"
   ]
  },
  {
   "cell_type": "code",
   "execution_count": 320,
   "id": "13f991c3",
   "metadata": {},
   "outputs": [],
   "source": [
    "import numpy as np \n",
    "import pandas as pd \n",
    "import matplotlib.pyplot as plt \n",
    "import seaborn as sns "
   ]
  },
  {
   "cell_type": "code",
   "execution_count": 321,
   "id": "72f1cd32",
   "metadata": {},
   "outputs": [],
   "source": [
    "np.random.seed(15)"
   ]
  },
  {
   "cell_type": "markdown",
   "id": "0642f945",
   "metadata": {},
   "source": [
    "MATRIZ 20X3 - MEDIA - VARIANZA - PRIMERA Y SEGUNDA DISTRIBUCIÓN NORMAL"
   ]
  },
  {
   "cell_type": "code",
   "execution_count": 322,
   "id": "0b34c733",
   "metadata": {
    "scrolled": false
   },
   "outputs": [
    {
     "name": "stdout",
     "output_type": "stream",
     "text": [
      "[-0.0624657   0.06785694 -0.03118171 -0.10035793  0.04711378 -0.35272105\n",
      " -0.21917241 -0.21755315 -0.06103401 -0.09474967]\n",
      "\n",
      " [0.89970273 1.17759839 1.34475886 1.20529484 0.71751078 1.29969535\n",
      " 0.91853185 1.80010725 1.3408136  1.00744005]\n"
     ]
    }
   ],
   "source": [
    "#1-\n",
    "med_x = 0\n",
    "var_x = 0.2\n",
    "\n",
    "normal1 = np.random.normal(med_x, var_x, 10)\n",
    "print(normal1)\n",
    "\n",
    "\n",
    "#2-\n",
    "med_x1 = 1\n",
    "var_x1 = 0.5\n",
    "\n",
    "\n",
    "normal2 = np.random.normal(med_x1, var_x1, 10)\n",
    "print('\\n', normal2)\n",
    "\n"
   ]
  },
  {
   "cell_type": "markdown",
   "id": "0e20a3aa",
   "metadata": {},
   "source": [
    "UNIFICACIÓN DE LAS DISTRIBUCIONES NORMALES"
   ]
  },
  {
   "cell_type": "code",
   "execution_count": 285,
   "id": "36e76fb7",
   "metadata": {
    "scrolled": true
   },
   "outputs": [
    {
     "name": "stdout",
     "output_type": "stream",
     "text": [
      "\n",
      " [ 0.17677862  0.039173    0.0715073  -0.46865238 -0.21696652  0.11193926\n",
      "  0.18789387 -0.19569621  0.10061937  0.08128289  1.1617305   0.75329456\n",
      "  0.6039916   0.57881603  0.36024867  1.12285758  0.9779026   1.78381628\n",
      "  1.52555434  1.20318421]\n"
     ]
    }
   ],
   "source": [
    "normal = np.concatenate((normal1, normal2), axis=0)\n",
    "print('\\n', normal)"
   ]
  },
  {
   "cell_type": "markdown",
   "id": "2d07bbf5",
   "metadata": {},
   "source": [
    "GRÁFICOS DISTRIBUCIONES NORMALES"
   ]
  },
  {
   "cell_type": "code",
   "execution_count": 286,
   "id": "0f0c8490",
   "metadata": {
    "scrolled": false
   },
   "outputs": [
    {
     "data": {
      "image/png": "[encoded data removed]",
      "text/plain": [
       "<Figure size 432x288 with 3 Axes>"
      ]
     },
     "metadata": {
      "needs_background": "light"
     },
     "output_type": "display_data"
    }
   ],
   "source": [
    "x = plt.subplot(1, 3, 1)\n",
    "x.hist(normal1)\n",
    "x.set_title('Normal 1')\n",
    "x.set_facecolor('yellow')\n",
    "\n",
    "\n",
    "x1 = plt.subplot(1, 3, 2)\n",
    "x1.hist(normal2)\n",
    "x1.set_title('Normal 2')\n",
    "x1.set_facecolor('yellow')\n",
    "\n",
    "x2 = plt.subplot(1, 3, 3)\n",
    "x2.hist(normal)\n",
    "x2.set_title('Conjunto Normal')\n",
    "x2.set_facecolor('yellow')"
   ]
  },
  {
   "cell_type": "markdown",
   "id": "e4ca5630",
   "metadata": {},
   "source": [
    "DISTRIBUCIÓN UNIFORME - PRIMERA Y SENGUNDA DISTRIBUCIÓN"
   ]
  },
  {
   "cell_type": "code",
   "execution_count": 287,
   "id": "f9d7fa59",
   "metadata": {},
   "outputs": [
    {
     "name": "stdout",
     "output_type": "stream",
     "text": [
      "[-0.77800683 -0.12926769 -0.79328084 -0.08138909 -0.51158881 -0.38825614\n",
      " -0.23409214 -0.48158201 -0.7031995  -0.81227877]\n",
      "\n",
      " [1.1617305  0.75329456 0.6039916  0.57881603 0.36024867 1.12285758\n",
      " 0.9779026  1.78381628 1.52555434 1.20318421]\n"
     ]
    }
   ],
   "source": [
    "np.random.seed(5)\n",
    "\n",
    "#1-\n",
    "uniforme1 = np.random.uniform(-1, 0, 10)\n",
    "print(uniforme1)\n",
    "\n",
    "\n",
    "#2-\n",
    "uniforme2 = np.random.uniform(1, 1.5, 10)\n",
    "print('\\n', normal2)\n",
    "\n",
    "\n",
    "\n",
    "\n"
   ]
  },
  {
   "cell_type": "markdown",
   "id": "00c8ab35",
   "metadata": {},
   "source": [
    "UNIFICACIÓN DE LAS DISTRIBUCIONES UNIFORMES"
   ]
  },
  {
   "cell_type": "code",
   "execution_count": 288,
   "id": "4539db1b",
   "metadata": {
    "scrolled": true
   },
   "outputs": [
    {
     "name": "stdout",
     "output_type": "stream",
     "text": [
      "\n",
      " [-0.77800683 -0.12926769 -0.79328084 -0.08138909 -0.51158881 -0.38825614\n",
      " -0.23409214 -0.48158201 -0.7031995  -0.81227877  1.04037063  1.36922015\n",
      "  1.22065461  1.07915493  1.43996852  1.13704323  1.20711751  1.14803997\n",
      "  1.31439395  1.28991891]\n"
     ]
    }
   ],
   "source": [
    "uniforme = np.concatenate((uniforme1, uniforme2), axis=0)\n",
    "print('\\n', uniforme)"
   ]
  },
  {
   "cell_type": "markdown",
   "id": "a0193543",
   "metadata": {},
   "source": [
    "GRÁFICOS DISTRIBUCIÓN UNIFORME "
   ]
  },
  {
   "cell_type": "code",
   "execution_count": 289,
   "id": "d7734b8c",
   "metadata": {},
   "outputs": [
    {
     "data": {
      "image/png": "[encoded data removed]",
      "text/plain": [
       "<Figure size 432x288 with 3 Axes>"
      ]
     },
     "metadata": {
      "needs_background": "light"
     },
     "output_type": "display_data"
    }
   ],
   "source": [
    "x = plt.subplot(1, 3, 1)\n",
    "x.hist(uniforme1)\n",
    "x.set_title('Uniforme 1')\n",
    "x.set_facecolor('yellow')\n",
    "\n",
    "x1 = plt.subplot(1, 3, 2)\n",
    "x1.hist(uniforme2)\n",
    "x1.set_title('Uniforme 2')\n",
    "x1.set_facecolor('yellow')\n",
    "\n",
    "x2 = plt.subplot(1, 3, 3)\n",
    "x2.hist(uniforme)\n",
    "x2.set_title('Conjunto Uniforme')\n",
    "x2.set_facecolor('yellow')"
   ]
  },
  {
   "cell_type": "markdown",
   "id": "f3cb3e27",
   "metadata": {},
   "source": [
    "DISTRIBUCION SESGADA - PRIMERA Y SEGUNDA DISTRIBUCIÓN"
   ]
  },
  {
   "cell_type": "code",
   "execution_count": 290,
   "id": "45f602be",
   "metadata": {
    "scrolled": true
   },
   "outputs": [
    {
     "name": "stdout",
     "output_type": "stream",
     "text": [
      "[-0.77800683 -0.12926769 -0.79328084 -0.08138909 -0.51158881 -0.38825614\n",
      " -0.23409214 -0.48158201 -0.7031995  -0.81227877]\n",
      "\n",
      " [ 54.95846323  44.17412082 266.69525485  15.43838191  53.92586231\n",
      "  44.6058393   49.17491808  89.87639317  81.07058396 788.15687381]\n"
     ]
    }
   ],
   "source": [
    "distri_sesgada1 = np.random.lognormal(0.5, 1, 10)\n",
    "print(uniforme1)\n",
    "\n",
    "\n",
    "distri_sesgada2 = np.random.lognormal(4, 2, 10)\n",
    "print('\\n', distri_sesgada2)"
   ]
  },
  {
   "cell_type": "markdown",
   "id": "0d8ea428",
   "metadata": {},
   "source": [
    "UNIFICACIÓN DE LAS DISTRIBUCIONES"
   ]
  },
  {
   "cell_type": "code",
   "execution_count": 291,
   "id": "a41fe4b2",
   "metadata": {
    "scrolled": true
   },
   "outputs": [
    {
     "name": "stdout",
     "output_type": "stream",
     "text": [
      "\n",
      " [3.63789616e-01 3.14196221e+00 6.18407357e-01 6.99875264e-01\n",
      " 6.89437533e-01 1.08057366e+00 4.46576185e+00 3.36161419e+00\n",
      " 1.74917499e+00 1.14647168e+00 5.49584632e+01 4.41741208e+01\n",
      " 2.66695255e+02 1.54383819e+01 5.39258623e+01 4.46058393e+01\n",
      " 4.91749181e+01 8.98763932e+01 8.10705840e+01 7.88156874e+02]\n"
     ]
    }
   ],
   "source": [
    "sesgada = np.concatenate((distri_sesgada1, distri_sesgada2), axis=0)\n",
    "print('\\n', sesgada)"
   ]
  },
  {
   "cell_type": "markdown",
   "id": "bbc6f9b3",
   "metadata": {},
   "source": [
    "GRÁFICOS DE LAS DISTRIBUCIONES SESGADAS"
   ]
  },
  {
   "cell_type": "code",
   "execution_count": 292,
   "id": "597816c1",
   "metadata": {},
   "outputs": [
    {
     "data": {
      "image/png": "[encoded data removed]",
      "text/plain": [
       "<Figure size 432x288 with 3 Axes>"
      ]
     },
     "metadata": {
      "needs_background": "light"
     },
     "output_type": "display_data"
    }
   ],
   "source": [
    "x = plt.subplot(1, 3, 1)\n",
    "x.hist(distri_sesgada1)\n",
    "x.set_title('Sesgada 1')\n",
    "x.set_facecolor('yellow')\n",
    "\n",
    "x1 = plt.subplot(1, 3, 2)\n",
    "x1.hist(distri_sesgada2)\n",
    "x1.set_title('Sesgada 2')\n",
    "x1.set_facecolor('yellow')\n",
    "\n",
    "x2 = plt.subplot(1, 3, 3)\n",
    "x2.hist(sesgado)\n",
    "x2.set_title('Conjunto Sesgado')\n",
    "x2.set_facecolor('yellow')"
   ]
  },
  {
   "cell_type": "markdown",
   "id": "201dd827",
   "metadata": {},
   "source": [
    "UNIFICAMOS LAS 3 DISTRIBUCIONES (NORMAL, UNIFORME Y SESGADA)"
   ]
  },
  {
   "cell_type": "code",
   "execution_count": 293,
   "id": "3d62977e",
   "metadata": {},
   "outputs": [
    {
     "name": "stdout",
     "output_type": "stream",
     "text": [
      "(20, 3)\n"
     ]
    },
    {
     "data": {
      "text/plain": [
       "array([[ 1.76778623e-01, -7.78006829e-01,  3.63789616e-01],\n",
       "       [ 3.91730044e-02, -1.29267694e-01,  3.14196221e+00],\n",
       "       [ 7.15073032e-02, -7.93280845e-01,  6.18407357e-01],\n",
       "       [-4.68652381e-01, -8.13890921e-02,  6.99875264e-01],\n",
       "       [-2.16966517e-01, -5.11588811e-01,  6.89437533e-01],\n",
       "       [ 1.11939258e-01, -3.88256137e-01,  1.08057366e+00],\n",
       "       [ 1.87893870e-01, -2.34092144e-01,  4.46576185e+00],\n",
       "       [-1.95696208e-01, -4.81582012e-01,  3.36161419e+00],\n",
       "       [ 1.00619368e-01, -7.03199498e-01,  1.74917499e+00],\n",
       "       [ 8.12828938e-02, -8.12278771e-01,  1.14647168e+00],\n",
       "       [ 1.16173050e+00,  1.04037063e+00,  5.49584632e+01],\n",
       "       [ 7.53294559e-01,  1.36922015e+00,  4.41741208e+01],\n",
       "       [ 6.03991605e-01,  1.22065461e+00,  2.66695255e+02],\n",
       "       [ 5.78816033e-01,  1.07915493e+00,  1.54383819e+01],\n",
       "       [ 3.60248669e-01,  1.43996852e+00,  5.39258623e+01],\n",
       "       [ 1.12285758e+00,  1.13704323e+00,  4.46058393e+01],\n",
       "       [ 9.77902600e-01,  1.20711751e+00,  4.91749181e+01],\n",
       "       [ 1.78381628e+00,  1.14803997e+00,  8.98763932e+01],\n",
       "       [ 1.52555434e+00,  1.31439395e+00,  8.10705840e+01],\n",
       "       [ 1.20318421e+00,  1.28991891e+00,  7.88156874e+02]])"
      ]
     },
     "execution_count": 293,
     "metadata": {},
     "output_type": "execute_result"
    }
   ],
   "source": [
    "train = np.append([normal], [uniforme], axis=0)\n",
    "train_20x3 = np.append(train, [sesgada], axis=0)\n",
    "\n",
    "\n",
    "train_20x3 = train_20x3.transpose()\n",
    "\n",
    "print(train_20x3.shape)\n",
    "train_20x3"
   ]
  },
  {
   "cell_type": "markdown",
   "id": "1cdf69b2",
   "metadata": {},
   "source": [
    "MATRIZ 200X3 - MEDIA - VARIANZA - PRIMERA Y SEGUNDA DISTRIBUCIÓN NORMAL"
   ]
  },
  {
   "cell_type": "code",
   "execution_count": 294,
   "id": "e561dec0",
   "metadata": {},
   "outputs": [
    {
     "name": "stdout",
     "output_type": "stream",
     "text": [
      "[-0.01737512  0.31230646 -0.0611706  -0.09554628  0.02014764  0.07108769\n",
      "  0.05392248  0.25839268  0.2278686   0.09888808 -0.06726725 -0.02012287\n",
      "  0.2826796   0.04425082 -0.26215463 -0.13791305 -0.11550265  0.23044095\n",
      " -0.0214328   0.45202135  0.13132389  0.02496137 -0.08714078  0.19443586\n",
      " -0.04814223 -0.16482469  0.11362654  0.00255166  0.23781215 -0.01471866\n",
      " -0.57193759  0.15787328 -0.37554818  0.30775123  0.36427295 -0.08540628\n",
      " -0.23294038 -0.2794148   0.17453092 -0.04042364 -0.11967199 -0.04868394\n",
      "  0.41770294  0.06938387  0.14914539  0.15538152  0.20368423  0.21227029\n",
      " -0.14209329 -0.04303756 -0.15215206 -0.14223265  0.22830155 -0.10035111\n",
      " -0.01583027 -0.13856527 -0.11868055  0.15764759 -0.089086   -0.09642404\n",
      "  0.09871153  0.10009747  0.15848452  0.03415289 -0.35074817  0.1260593\n",
      "  0.09966584  0.20362752 -0.16929372  0.50416153 -0.24647722  0.14539065\n",
      "  0.00919104 -0.09742653  0.16322647 -0.05628602 -0.46712436 -0.23345569\n",
      "  0.09153161  0.44759312 -0.29625184 -0.00338906  0.29014671  0.12137406\n",
      " -0.07512417 -0.28438491 -0.35623026 -0.14958116 -0.07368191 -0.44982363\n",
      " -0.33873501  0.06072969 -0.08179847 -0.15096612 -0.08150383 -0.16252495\n",
      "  0.18550324  0.32799081  0.41472311  0.14195957]\n",
      "\n",
      " [ 1.3735763   1.73154774  1.86922441  1.73260244  1.6061417   0.68267375\n",
      "  0.20015075  1.43857641  0.95308378  0.97216448  0.55528963  0.34952427\n",
      "  1.70108331  1.2325505   0.46748369  1.1952103   1.15280009  1.26092475\n",
      "  2.11663541  0.98264895  0.36018841  1.01827132  0.67682171  1.27428392\n",
      "  1.10527123  1.17325088  0.71647442  1.2068394   0.74487197  1.25862968\n",
      "  0.84949744  0.44079678  1.24926181  0.64695307  1.72194055  1.22147813\n",
      "  1.23385261  1.0506724   0.97032401 -0.19334887  1.61108528  0.593044\n",
      "  1.47813093  0.68074472  0.92843679  0.88790508  0.48075238  0.91414548\n",
      "  1.23817309  0.79291087  0.36795833  0.71339222  1.12490866  1.57360104\n",
      "  1.41797198  1.14370182  0.50220185  1.45344473  1.01210537  0.88000913\n",
      "  1.45505528  1.30892238  1.24980902  0.42422788  0.6947418   0.1480573\n",
      "  1.09721869  1.01412062  1.46628025  1.10602166  0.81602772  2.0557442\n",
      "  0.48521325  0.33185985  0.69471632  1.26234713  0.82534594  0.77963077\n",
      "  0.4393562   1.73642236  0.68831388  0.45964902  0.93873495  0.59612845\n",
      "  0.88372189  1.66757517  0.77677164  0.97510566  0.81572761  0.90413022\n",
      "  1.40983996  1.26581686  0.82919248  0.53454976  0.9328915   1.41629681\n",
      "  0.99132337  0.93617089  0.09604169  1.49698449]\n"
     ]
    }
   ],
   "source": [
    "med_x = 0\n",
    "var_x = 0.2\n",
    "\n",
    "normal = np.random.normal(med_x, var_x, 100)\n",
    "print(normal)\n",
    "\n",
    "\n",
    "med_x1 = 1\n",
    "var_x1 = 0.5\n",
    "\n",
    "normal1 = np.random.normal(med_x1, var_x1, 100)\n",
    "print('\\n', normal1)\n",
    "\n",
    "\n"
   ]
  },
  {
   "cell_type": "markdown",
   "id": "1c9d9a03",
   "metadata": {},
   "source": [
    "UNIFICACIÓN DE LAS DISTRIBUCIONES NORMALES"
   ]
  },
  {
   "cell_type": "code",
   "execution_count": 295,
   "id": "92f8eb2c",
   "metadata": {},
   "outputs": [
    {
     "name": "stdout",
     "output_type": "stream",
     "text": [
      "\n",
      " [-0.01737512  0.31230646 -0.0611706  -0.09554628  0.02014764  0.07108769\n",
      "  0.05392248  0.25839268  0.2278686   0.09888808 -0.06726725 -0.02012287\n",
      "  0.2826796   0.04425082 -0.26215463 -0.13791305 -0.11550265  0.23044095\n",
      " -0.0214328   0.45202135  0.13132389  0.02496137 -0.08714078  0.19443586\n",
      " -0.04814223 -0.16482469  0.11362654  0.00255166  0.23781215 -0.01471866\n",
      " -0.57193759  0.15787328 -0.37554818  0.30775123  0.36427295 -0.08540628\n",
      " -0.23294038 -0.2794148   0.17453092 -0.04042364 -0.11967199 -0.04868394\n",
      "  0.41770294  0.06938387  0.14914539  0.15538152  0.20368423  0.21227029\n",
      " -0.14209329 -0.04303756 -0.15215206 -0.14223265  0.22830155 -0.10035111\n",
      " -0.01583027 -0.13856527 -0.11868055  0.15764759 -0.089086   -0.09642404\n",
      "  0.09871153  0.10009747  0.15848452  0.03415289 -0.35074817  0.1260593\n",
      "  0.09966584  0.20362752 -0.16929372  0.50416153 -0.24647722  0.14539065\n",
      "  0.00919104 -0.09742653  0.16322647 -0.05628602 -0.46712436 -0.23345569\n",
      "  0.09153161  0.44759312 -0.29625184 -0.00338906  0.29014671  0.12137406\n",
      " -0.07512417 -0.28438491 -0.35623026 -0.14958116 -0.07368191 -0.44982363\n",
      " -0.33873501  0.06072969 -0.08179847 -0.15096612 -0.08150383 -0.16252495\n",
      "  0.18550324  0.32799081  0.41472311  0.14195957  1.3735763   1.73154774\n",
      "  1.86922441  1.73260244  1.6061417   0.68267375  0.20015075  1.43857641\n",
      "  0.95308378  0.97216448  0.55528963  0.34952427  1.70108331  1.2325505\n",
      "  0.46748369  1.1952103   1.15280009  1.26092475  2.11663541  0.98264895\n",
      "  0.36018841  1.01827132  0.67682171  1.27428392  1.10527123  1.17325088\n",
      "  0.71647442  1.2068394   0.74487197  1.25862968  0.84949744  0.44079678\n",
      "  1.24926181  0.64695307  1.72194055  1.22147813  1.23385261  1.0506724\n",
      "  0.97032401 -0.19334887  1.61108528  0.593044    1.47813093  0.68074472\n",
      "  0.92843679  0.88790508  0.48075238  0.91414548  1.23817309  0.79291087\n",
      "  0.36795833  0.71339222  1.12490866  1.57360104  1.41797198  1.14370182\n",
      "  0.50220185  1.45344473  1.01210537  0.88000913  1.45505528  1.30892238\n",
      "  1.24980902  0.42422788  0.6947418   0.1480573   1.09721869  1.01412062\n",
      "  1.46628025  1.10602166  0.81602772  2.0557442   0.48521325  0.33185985\n",
      "  0.69471632  1.26234713  0.82534594  0.77963077  0.4393562   1.73642236\n",
      "  0.68831388  0.45964902  0.93873495  0.59612845  0.88372189  1.66757517\n",
      "  0.77677164  0.97510566  0.81572761  0.90413022  1.40983996  1.26581686\n",
      "  0.82919248  0.53454976  0.9328915   1.41629681  0.99132337  0.93617089\n",
      "  0.09604169  1.49698449]\n"
     ]
    }
   ],
   "source": [
    "normal = np.concatenate((normal, normal1), axis=0)\n",
    "print('\\n', normal)"
   ]
  },
  {
   "cell_type": "markdown",
   "id": "4fdcdc14",
   "metadata": {},
   "source": [
    "GRÁFICOS DE LAS DISTRIBUCIÓNES NORMALES "
   ]
  },
  {
   "cell_type": "code",
   "execution_count": 296,
   "id": "4526934c",
   "metadata": {},
   "outputs": [
    {
     "data": {
      "image/png": "[encoded data removed]",
      "text/plain": [
       "<Figure size 432x288 with 3 Axes>"
      ]
     },
     "metadata": {
      "needs_background": "light"
     },
     "output_type": "display_data"
    }
   ],
   "source": [
    "x = plt.subplot(1, 3, 1)\n",
    "x.hist(normal1)\n",
    "x.set_title('Normal 1')\n",
    "x.set_facecolor('yellow')\n",
    "\n",
    "x1 = plt.subplot(1, 3, 2)\n",
    "x1.hist(normal2)\n",
    "x1.set_title('Normal 2')\n",
    "x1.set_facecolor('yellow')\n",
    "\n",
    "x2 = plt.subplot(1, 3, 3)\n",
    "x2.hist(normal)\n",
    "x2.set_title('Conjunto Normal')\n",
    "x2.set_facecolor('yellow')"
   ]
  },
  {
   "cell_type": "markdown",
   "id": "3a9b6f24",
   "metadata": {},
   "source": [
    "DISTRIBUCIÓN UNIFORME - PRIMERA Y SEGUNDA DISTRIBUCIÓN"
   ]
  },
  {
   "cell_type": "code",
   "execution_count": 297,
   "id": "ce0c5d0b",
   "metadata": {},
   "outputs": [
    {
     "name": "stdout",
     "output_type": "stream",
     "text": [
      "[-0.62396798 -0.64417842 -0.76896712 -0.97396276 -0.268816   -0.00148423\n",
      " -0.96165807 -0.14090178 -0.45569507 -0.98048004 -0.93118359 -0.47455052\n",
      " -0.89543979 -0.70400257 -0.7251656  -0.02939429 -0.53033352 -0.71481894\n",
      " -0.06175791 -0.03327333 -0.28060012 -0.86312097 -0.11010101 -0.55873971\n",
      " -0.21387262 -0.27851127 -0.34683592 -0.23302687 -0.18816974 -0.53833846\n",
      " -0.51537939 -0.90261376 -0.62913723 -0.11386571 -0.77972797 -0.25108488\n",
      " -0.19337033 -0.80343217 -0.23539735 -0.34265374 -0.02454079 -0.61170685\n",
      " -0.24325    -0.15604638 -0.62092736 -0.77631192 -0.6317576  -0.34717012\n",
      " -0.74261265 -0.14150107 -0.70480852 -0.23596533 -0.67895626 -0.49567759\n",
      " -0.12581628 -0.51460333 -0.37581149 -0.65719196 -0.5314265  -0.93858598\n",
      " -0.48023351 -0.55084586 -0.70101714 -0.82712289 -0.65933628 -0.70514948\n",
      " -0.6374623  -0.19124594 -0.10440044 -0.08496668 -0.57844438 -0.10155249\n",
      " -0.41292241 -0.0033889  -0.87573716 -0.24316844 -0.41173143 -0.48543398\n",
      " -0.24178441 -0.16671828 -0.16891217 -0.65588106 -0.61932294 -0.40471487\n",
      " -0.95712805 -0.18529472 -0.4139769  -0.55649528 -0.36186513 -0.04464842\n",
      " -0.19578885 -0.34385031 -0.79245766 -0.02826398 -0.61288625 -0.09476369\n",
      " -0.49894538 -0.32759172 -0.11259703 -0.94161425]\n",
      "\n",
      " [1.1617305  0.75329456 0.6039916  0.57881603 0.36024867 1.12285758\n",
      " 0.9779026  1.78381628 1.52555434 1.20318421]\n"
     ]
    }
   ],
   "source": [
    "#1-\n",
    "uniforme1 = np.random.uniform(-1, 0, 100)\n",
    "print(uniforme1)\n",
    "\n",
    "\n",
    "#2-\n",
    "uniforme2 = np.random.uniform(1, 1.5, 100)\n",
    "print('\\n', normal2)"
   ]
  },
  {
   "cell_type": "markdown",
   "id": "3faedd95",
   "metadata": {},
   "source": [
    "UNIFICACIÓN DE LAS DISTRIBUCIONES UNIFORMES"
   ]
  },
  {
   "cell_type": "code",
   "execution_count": 298,
   "id": "a67e1ecf",
   "metadata": {},
   "outputs": [
    {
     "name": "stdout",
     "output_type": "stream",
     "text": [
      "\n",
      " [-6.23967982e-01 -6.44178424e-01 -7.68967125e-01 -9.73962756e-01\n",
      " -2.68816000e-01 -1.48423274e-03 -9.61658070e-01 -1.40901783e-01\n",
      " -4.55695069e-01 -9.80480041e-01 -9.31183591e-01 -4.74550519e-01\n",
      " -8.95439794e-01 -7.04002572e-01 -7.25165596e-01 -2.93942924e-02\n",
      " -5.30333515e-01 -7.14818936e-01 -6.17579067e-02 -3.32733312e-02\n",
      " -2.80600117e-01 -8.63120968e-01 -1.10101015e-01 -5.58739706e-01\n",
      " -2.13872622e-01 -2.78511272e-01 -3.46835922e-01 -2.33026867e-01\n",
      " -1.88169745e-01 -5.38338459e-01 -5.15379392e-01 -9.02613755e-01\n",
      " -6.29137234e-01 -1.13865707e-01 -7.79727974e-01 -2.51084881e-01\n",
      " -1.93370335e-01 -8.03432170e-01 -2.35397350e-01 -3.42653737e-01\n",
      " -2.45407889e-02 -6.11706850e-01 -2.43250004e-01 -1.56046378e-01\n",
      " -6.20927357e-01 -7.76311923e-01 -6.31757598e-01 -3.47170120e-01\n",
      " -7.42612649e-01 -1.41501067e-01 -7.04808520e-01 -2.35965334e-01\n",
      " -6.78956264e-01 -4.95677586e-01 -1.25816280e-01 -5.14603327e-01\n",
      " -3.75811488e-01 -6.57191964e-01 -5.31426497e-01 -9.38585979e-01\n",
      " -4.80233512e-01 -5.50845855e-01 -7.01017139e-01 -8.27122893e-01\n",
      " -6.59336279e-01 -7.05149478e-01 -6.37462304e-01 -1.91245939e-01\n",
      " -1.04400440e-01 -8.49666776e-02 -5.78444379e-01 -1.01552488e-01\n",
      " -4.12922407e-01 -3.38890008e-03 -8.75737160e-01 -2.43168441e-01\n",
      " -4.11731430e-01 -4.85433980e-01 -2.41784405e-01 -1.66718276e-01\n",
      " -1.68912172e-01 -6.55881061e-01 -6.19322943e-01 -4.04714872e-01\n",
      " -9.57128055e-01 -1.85294723e-01 -4.13976899e-01 -5.56495279e-01\n",
      " -3.61865125e-01 -4.46484225e-02 -1.95788850e-01 -3.43850308e-01\n",
      " -7.92457659e-01 -2.82639819e-02 -6.12886253e-01 -9.47636913e-02\n",
      " -4.98945376e-01 -3.27591718e-01 -1.12597028e-01 -9.41614245e-01\n",
      "  1.14737332e+00  1.08884679e+00  1.02328281e+00  1.17090414e+00\n",
      "  1.45770037e+00  1.12635814e+00  1.05651891e+00  1.47092247e+00\n",
      "  1.24665550e+00  1.23589551e+00  1.34392338e+00  1.40854241e+00\n",
      "  1.11345365e+00  1.10117643e+00  1.21224939e+00  1.42379647e+00\n",
      "  1.46356070e+00  1.09520168e+00  1.34472960e+00  1.22293434e+00\n",
      "  1.43905514e+00  1.14780555e+00  1.13510192e+00  1.01096595e+00\n",
      "  1.43567544e+00  1.08302989e+00  1.13926560e+00  1.12316560e+00\n",
      "  1.46102609e+00  1.04081408e+00  1.16832922e+00  1.34021752e+00\n",
      "  1.08278258e+00  1.28882925e+00  1.21232854e+00  1.00657004e+00\n",
      "  1.30330144e+00  1.17345844e+00  1.10576345e+00  1.48757501e+00\n",
      "  1.41949111e+00  1.22435465e+00  1.16062452e+00  1.00704894e+00\n",
      "  1.36403492e+00  1.13316177e+00  1.25584498e+00  1.31300954e+00\n",
      "  1.37645300e+00  1.07907309e+00  1.04565831e+00  1.38703357e+00\n",
      "  1.02572897e+00  1.20330866e+00  1.01801175e+00  1.10389442e+00\n",
      "  1.09469885e+00  1.41995041e+00  1.37147086e+00  1.12233811e+00\n",
      "  1.29308405e+00  1.24729941e+00  1.04558085e+00  1.17890879e+00\n",
      "  1.37535049e+00  1.06438377e+00  1.11995034e+00  1.17821222e+00\n",
      "  1.00201089e+00  1.38672676e+00  1.19754591e+00  1.31933335e+00\n",
      "  1.26301714e+00  1.38968395e+00  1.32942259e+00  1.19937856e+00\n",
      "  1.06183081e+00  1.21200308e+00  1.00264383e+00  1.03908295e+00\n",
      "  1.41490420e+00  1.25838458e+00  1.39447245e+00  1.36955545e+00\n",
      "  1.26389968e+00  1.36364774e+00  1.47191146e+00  1.47421305e+00\n",
      "  1.12721573e+00  1.45419194e+00  1.23551286e+00  1.10419166e+00\n",
      "  1.20507385e+00  1.29196556e+00  1.44449968e+00  1.45168712e+00\n",
      "  1.27988769e+00  1.40358074e+00  1.26455768e+00  1.04753853e+00]\n"
     ]
    }
   ],
   "source": [
    "uniforme = np.concatenate((uniforme1, uniforme2), axis=0)\n",
    "print('\\n', uniforme)\n"
   ]
  },
  {
   "cell_type": "markdown",
   "id": "b7ed18c3",
   "metadata": {},
   "source": [
    "GRÁFICOS DE LAS DISTRIBUCIONES UNIFORMES"
   ]
  },
  {
   "cell_type": "code",
   "execution_count": 299,
   "id": "0cbca194",
   "metadata": {},
   "outputs": [
    {
     "data": {
      "image/png": "[encoded data removed]",
      "text/plain": [
       "<Figure size 432x288 with 3 Axes>"
      ]
     },
     "metadata": {
      "needs_background": "light"
     },
     "output_type": "display_data"
    }
   ],
   "source": [
    "x = plt.subplot(1, 3, 1)\n",
    "x.hist(uniforme1)\n",
    "x.set_title('Uniforme 1')\n",
    "x.set_facecolor('yellow')\n",
    "\n",
    "x1 = plt.subplot(1, 3, 2)\n",
    "x1.hist(uniforme2)\n",
    "x1.set_title('Uniforme 2')\n",
    "x1.set_facecolor('yellow')\n",
    "\n",
    "x2 = plt.subplot(1, 3, 3)\n",
    "x2.hist(uniforme)\n",
    "x2.set_title('Conjunto Uniforme')\n",
    "x2.set_facecolor('yellow')"
   ]
  },
  {
   "cell_type": "markdown",
   "id": "eea6a1fe",
   "metadata": {},
   "source": [
    "DISTRIBUCION SESGADA - PRIMERA Y SEGUNDA DISTRIBUCIÓN"
   ]
  },
  {
   "cell_type": "code",
   "execution_count": 300,
   "id": "1be79ced",
   "metadata": {},
   "outputs": [
    {
     "name": "stdout",
     "output_type": "stream",
     "text": [
      "[-0.62396798 -0.64417842 -0.76896712 -0.97396276 -0.268816   -0.00148423\n",
      " -0.96165807 -0.14090178 -0.45569507 -0.98048004 -0.93118359 -0.47455052\n",
      " -0.89543979 -0.70400257 -0.7251656  -0.02939429 -0.53033352 -0.71481894\n",
      " -0.06175791 -0.03327333 -0.28060012 -0.86312097 -0.11010101 -0.55873971\n",
      " -0.21387262 -0.27851127 -0.34683592 -0.23302687 -0.18816974 -0.53833846\n",
      " -0.51537939 -0.90261376 -0.62913723 -0.11386571 -0.77972797 -0.25108488\n",
      " -0.19337033 -0.80343217 -0.23539735 -0.34265374 -0.02454079 -0.61170685\n",
      " -0.24325    -0.15604638 -0.62092736 -0.77631192 -0.6317576  -0.34717012\n",
      " -0.74261265 -0.14150107 -0.70480852 -0.23596533 -0.67895626 -0.49567759\n",
      " -0.12581628 -0.51460333 -0.37581149 -0.65719196 -0.5314265  -0.93858598\n",
      " -0.48023351 -0.55084586 -0.70101714 -0.82712289 -0.65933628 -0.70514948\n",
      " -0.6374623  -0.19124594 -0.10440044 -0.08496668 -0.57844438 -0.10155249\n",
      " -0.41292241 -0.0033889  -0.87573716 -0.24316844 -0.41173143 -0.48543398\n",
      " -0.24178441 -0.16671828 -0.16891217 -0.65588106 -0.61932294 -0.40471487\n",
      " -0.95712805 -0.18529472 -0.4139769  -0.55649528 -0.36186513 -0.04464842\n",
      " -0.19578885 -0.34385031 -0.79245766 -0.02826398 -0.61288625 -0.09476369\n",
      " -0.49894538 -0.32759172 -0.11259703 -0.94161425]\n",
      "\n",
      " [3.38110341e+01 2.34366500e+02 1.84521970e+02 2.56305329e+02\n",
      " 4.57011090e+02 1.40753488e+02 2.89801366e+02 4.89949606e+01\n",
      " 5.18689645e+01 1.61477998e+00 7.65091562e+01 6.88526388e+02\n",
      " 1.22325814e+01 5.26197116e+00 6.55274364e+01 5.27863630e+02\n",
      " 6.09810755e+02 2.71575369e+00 1.34295338e+02 1.46949121e+01\n",
      " 9.51012333e+01 5.97258228e-01 3.45010696e+02 2.47497841e+01\n",
      " 8.22710552e+01 3.81184322e+01 6.90377302e+00 1.56190292e+02\n",
      " 2.08355155e+01 1.37793037e+01 2.04054318e+02 4.61915445e+01\n",
      " 1.34768507e+01 3.57300189e+02 1.67628540e+01 5.12798570e+01\n",
      " 2.37091318e+02 3.60473811e+02 6.02037948e+02 1.50040119e+03\n",
      " 5.97378831e+01 1.10634546e+01 1.47449088e+03 8.82902930e+02\n",
      " 3.00024017e+01 2.21940610e+02 2.56564981e+01 2.42394859e+00\n",
      " 4.35437484e+02 1.09082418e+02 6.97392684e+01 1.60360913e+03\n",
      " 9.58552451e+02 1.51311079e+01 5.94736276e+00 1.23441043e+00\n",
      " 5.52818461e+01 2.52228552e+01 1.12887789e+02 5.60193686e+01\n",
      " 1.46924718e+01 2.43200375e+01 2.42053198e+00 6.36993897e+02\n",
      " 1.88195412e+01 1.85807674e+02 1.46509238e+01 6.29099571e+01\n",
      " 1.92507209e+02 3.15759758e+01 1.06926836e+01 5.71254996e+03\n",
      " 3.67093084e+01 1.70127150e+02 4.64380527e+01 1.16294867e+01\n",
      " 7.56360853e+02 1.19381554e+02 1.07966861e+02 5.76195213e-01\n",
      " 9.69606772e+01 2.92692795e+02 9.61575254e+01 4.05741941e+01\n",
      " 5.93298227e+02 8.93191456e+01 1.74374419e+02 4.34126844e+02\n",
      " 4.04147408e+02 3.94134081e+00 1.06975042e+02 1.19025905e+01\n",
      " 9.84552412e-01 9.66261451e+01 1.68903578e+00 2.14781811e+01\n",
      " 3.61147184e-01 7.08482575e+00 2.13357217e+01 5.37574946e+01]\n"
     ]
    }
   ],
   "source": [
    "#1-\n",
    "sesgada1 = np.random.lognormal(0.5, 1, 100)\n",
    "print(uniforme1)\n",
    "\n",
    "#2-\n",
    "sesgada2 = np.random.lognormal(4, 2, 100)\n",
    "print('\\n', sesgada2)\n"
   ]
  },
  {
   "cell_type": "markdown",
   "id": "d01ac5f3",
   "metadata": {},
   "source": [
    "UNIFICACIÓN DE LAS DISTRIBUCIONES SESGADAS"
   ]
  },
  {
   "cell_type": "code",
   "execution_count": 301,
   "id": "89d39955",
   "metadata": {},
   "outputs": [
    {
     "name": "stdout",
     "output_type": "stream",
     "text": [
      "\n",
      " [9.74078908e+00 9.29477026e-01 3.63494366e+00 5.11160770e+00\n",
      " 6.72270831e-01 3.10406289e+00 2.81554304e+00 1.02618454e+00\n",
      " 3.27064075e+00 1.14890098e+00 9.25491867e-01 4.79635183e-01\n",
      " 2.42414744e+00 1.07337727e+00 9.42776277e-01 5.22568095e-01\n",
      " 4.20985968e-01 7.48833201e-01 3.42109207e+00 7.30605331e-01\n",
      " 6.99264930e+00 2.48000223e+00 1.93105241e+00 4.94978642e-01\n",
      " 1.16300083e+01 3.90380452e-01 2.81250377e+00 8.97397143e+00\n",
      " 1.35128065e+00 8.32330502e-01 1.61769432e+00 4.11921493e+00\n",
      " 6.41543772e+00 3.01752719e+00 5.65856014e-01 8.40137425e-01\n",
      " 2.02062739e+00 4.60167300e-01 1.29653675e+00 1.55017601e+01\n",
      " 5.72660682e-01 5.26225168e+00 6.48570586e-01 1.17266169e+00\n",
      " 1.53705596e+00 3.65853188e-01 1.48426569e+00 6.03044513e+00\n",
      " 3.37769153e+00 3.31272498e+00 7.37493620e-01 1.42610681e+00\n",
      " 2.01843589e+00 3.25014480e+00 6.31237429e+00 6.06936726e-01\n",
      " 9.02093593e+00 1.23835485e+00 1.28192523e+00 4.92408382e-01\n",
      " 1.54065079e+00 1.31234290e+00 4.79743193e-01 1.23197216e+00\n",
      " 1.86145266e+00 1.09260652e+00 3.59398046e+00 5.91741979e-01\n",
      " 4.01437700e+00 1.36891374e+00 2.39233477e+00 2.60491477e-01\n",
      " 1.87600754e+00 1.54975952e+00 4.20261901e+00 5.06666050e-01\n",
      " 6.44975089e+00 5.58427115e-01 6.15148913e+00 2.93937104e+00\n",
      " 7.75333982e-01 1.44365270e+01 4.98762953e-01 1.38822477e+00\n",
      " 2.02803442e+00 2.77814585e+00 2.06760161e+00 3.66610678e+00\n",
      " 2.60972750e+00 1.70352506e+00 6.50793479e-01 1.16761475e+00\n",
      " 4.06526740e+00 5.13503051e-01 1.84225767e+00 2.12588570e-01\n",
      " 8.22332104e-01 3.25250187e-01 5.72327263e+00 2.66401904e-01\n",
      " 3.38110341e+01 2.34366500e+02 1.84521970e+02 2.56305329e+02\n",
      " 4.57011090e+02 1.40753488e+02 2.89801366e+02 4.89949606e+01\n",
      " 5.18689645e+01 1.61477998e+00 7.65091562e+01 6.88526388e+02\n",
      " 1.22325814e+01 5.26197116e+00 6.55274364e+01 5.27863630e+02\n",
      " 6.09810755e+02 2.71575369e+00 1.34295338e+02 1.46949121e+01\n",
      " 9.51012333e+01 5.97258228e-01 3.45010696e+02 2.47497841e+01\n",
      " 8.22710552e+01 3.81184322e+01 6.90377302e+00 1.56190292e+02\n",
      " 2.08355155e+01 1.37793037e+01 2.04054318e+02 4.61915445e+01\n",
      " 1.34768507e+01 3.57300189e+02 1.67628540e+01 5.12798570e+01\n",
      " 2.37091318e+02 3.60473811e+02 6.02037948e+02 1.50040119e+03\n",
      " 5.97378831e+01 1.10634546e+01 1.47449088e+03 8.82902930e+02\n",
      " 3.00024017e+01 2.21940610e+02 2.56564981e+01 2.42394859e+00\n",
      " 4.35437484e+02 1.09082418e+02 6.97392684e+01 1.60360913e+03\n",
      " 9.58552451e+02 1.51311079e+01 5.94736276e+00 1.23441043e+00\n",
      " 5.52818461e+01 2.52228552e+01 1.12887789e+02 5.60193686e+01\n",
      " 1.46924718e+01 2.43200375e+01 2.42053198e+00 6.36993897e+02\n",
      " 1.88195412e+01 1.85807674e+02 1.46509238e+01 6.29099571e+01\n",
      " 1.92507209e+02 3.15759758e+01 1.06926836e+01 5.71254996e+03\n",
      " 3.67093084e+01 1.70127150e+02 4.64380527e+01 1.16294867e+01\n",
      " 7.56360853e+02 1.19381554e+02 1.07966861e+02 5.76195213e-01\n",
      " 9.69606772e+01 2.92692795e+02 9.61575254e+01 4.05741941e+01\n",
      " 5.93298227e+02 8.93191456e+01 1.74374419e+02 4.34126844e+02\n",
      " 4.04147408e+02 3.94134081e+00 1.06975042e+02 1.19025905e+01\n",
      " 9.84552412e-01 9.66261451e+01 1.68903578e+00 2.14781811e+01\n",
      " 3.61147184e-01 7.08482575e+00 2.13357217e+01 5.37574946e+01]\n"
     ]
    }
   ],
   "source": [
    "sesgo = np.concatenate((sesgada1, sesgada2), axis=0)\n",
    "print('\\n', sesgo)\n"
   ]
  },
  {
   "cell_type": "markdown",
   "id": "3557e0fa",
   "metadata": {},
   "source": [
    "GRAFICOS DE LAS DISTRIBUCIONES SESGADAS"
   ]
  },
  {
   "cell_type": "code",
   "execution_count": 302,
   "id": "30fb0f95",
   "metadata": {},
   "outputs": [
    {
     "data": {
      "image/png": "[encoded data removed]",
      "text/plain": [
       "<Figure size 432x288 with 3 Axes>"
      ]
     },
     "metadata": {
      "needs_background": "light"
     },
     "output_type": "display_data"
    }
   ],
   "source": [
    "x = plt.subplot(1, 3, 1)\n",
    "x.hist(sesgada1)\n",
    "x.set_title('Sesgada 1')\n",
    "x.set_facecolor('yellow')\n",
    "\n",
    "x1 = plt.subplot(1, 3, 2)\n",
    "x1.hist(sesgada2)\n",
    "x1.set_title('Sesgada 2')\n",
    "x1.set_facecolor('yellow')\n",
    "\n",
    "x2 = plt.subplot(1, 3, 3)\n",
    "x2.hist(sesgada)\n",
    "x2.set_title('Conjunto Sesgado')\n",
    "x2.set_facecolor('yellow')"
   ]
  },
  {
   "cell_type": "markdown",
   "id": "b673e8e0",
   "metadata": {},
   "source": [
    "UNIFICACIÓN DE TODAS LAS DISTRIBUCIONES SESGADAS"
   ]
  },
  {
   "cell_type": "code",
   "execution_count": 303,
   "id": "934e3d47",
   "metadata": {},
   "outputs": [
    {
     "name": "stdout",
     "output_type": "stream",
     "text": [
      "(200, 3)\n"
     ]
    },
    {
     "data": {
      "text/plain": [
       "array([[-1.73751213e-02, -6.23967982e-01,  9.74078908e+00],\n",
       "       [ 3.12306459e-01, -6.44178424e-01,  9.29477026e-01],\n",
       "       [-6.11706042e-02, -7.68967125e-01,  3.63494366e+00],\n",
       "       [-9.55462835e-02, -9.73962756e-01,  5.11160770e+00],\n",
       "       [ 2.01476378e-02, -2.68816000e-01,  6.72270831e-01],\n",
       "       [ 7.10876945e-02, -1.48423274e-03,  3.10406289e+00],\n",
       "       [ 5.39224813e-02, -9.61658070e-01,  2.81554304e+00],\n",
       "       [ 2.58392677e-01, -1.40901783e-01,  1.02618454e+00],\n",
       "       [ 2.27868596e-01, -4.55695069e-01,  3.27064075e+00],\n",
       "       [ 9.88880796e-02, -9.80480041e-01,  1.14890098e+00],\n",
       "       [-6.72672518e-02, -9.31183591e-01,  9.25491867e-01],\n",
       "       [-2.01228693e-02, -4.74550519e-01,  4.79635183e-01],\n",
       "       [ 2.82679604e-01, -8.95439794e-01,  2.42414744e+00],\n",
       "       [ 4.42508246e-02, -7.04002572e-01,  1.07337727e+00],\n",
       "       [-2.62154627e-01, -7.25165596e-01,  9.42776277e-01],\n",
       "       [-1.37913046e-01, -2.93942924e-02,  5.22568095e-01],\n",
       "       [-1.15502647e-01, -5.30333515e-01,  4.20985968e-01],\n",
       "       [ 2.30440954e-01, -7.14818936e-01,  7.48833201e-01],\n",
       "       [-2.14327970e-02, -6.17579067e-02,  3.42109207e+00],\n",
       "       [ 4.52021355e-01, -3.32733312e-02,  7.30605331e-01],\n",
       "       [ 1.31323894e-01, -2.80600117e-01,  6.99264930e+00],\n",
       "       [ 2.49613651e-02, -8.63120968e-01,  2.48000223e+00],\n",
       "       [-8.71407838e-02, -1.10101015e-01,  1.93105241e+00],\n",
       "       [ 1.94435862e-01, -5.58739706e-01,  4.94978642e-01],\n",
       "       [-4.81422285e-02, -2.13872622e-01,  1.16300083e+01],\n",
       "       [-1.64824691e-01, -2.78511272e-01,  3.90380452e-01],\n",
       "       [ 1.13626544e-01, -3.46835922e-01,  2.81250377e+00],\n",
       "       [ 2.55166334e-03, -2.33026867e-01,  8.97397143e+00],\n",
       "       [ 2.37812145e-01, -1.88169745e-01,  1.35128065e+00],\n",
       "       [-1.47186637e-02, -5.38338459e-01,  8.32330502e-01],\n",
       "       [-5.71937593e-01, -5.15379392e-01,  1.61769432e+00],\n",
       "       [ 1.57873281e-01, -9.02613755e-01,  4.11921493e+00],\n",
       "       [-3.75548177e-01, -6.29137234e-01,  6.41543772e+00],\n",
       "       [ 3.07751229e-01, -1.13865707e-01,  3.01752719e+00],\n",
       "       [ 3.64272948e-01, -7.79727974e-01,  5.65856014e-01],\n",
       "       [-8.54062772e-02, -2.51084881e-01,  8.40137425e-01],\n",
       "       [-2.32940382e-01, -1.93370335e-01,  2.02062739e+00],\n",
       "       [-2.79414805e-01, -8.03432170e-01,  4.60167300e-01],\n",
       "       [ 1.74530924e-01, -2.35397350e-01,  1.29653675e+00],\n",
       "       [-4.04236355e-02, -3.42653737e-01,  1.55017601e+01],\n",
       "       [-1.19671987e-01, -2.45407889e-02,  5.72660682e-01],\n",
       "       [-4.86839402e-02, -6.11706850e-01,  5.26225168e+00],\n",
       "       [ 4.17702938e-01, -2.43250004e-01,  6.48570586e-01],\n",
       "       [ 6.93838654e-02, -1.56046378e-01,  1.17266169e+00],\n",
       "       [ 1.49145390e-01, -6.20927357e-01,  1.53705596e+00],\n",
       "       [ 1.55381518e-01, -7.76311923e-01,  3.65853188e-01],\n",
       "       [ 2.03684227e-01, -6.31757598e-01,  1.48426569e+00],\n",
       "       [ 2.12270288e-01, -3.47170120e-01,  6.03044513e+00],\n",
       "       [-1.42093289e-01, -7.42612649e-01,  3.37769153e+00],\n",
       "       [-4.30375605e-02, -1.41501067e-01,  3.31272498e+00],\n",
       "       [-1.52152062e-01, -7.04808520e-01,  7.37493620e-01],\n",
       "       [-1.42232646e-01, -2.35965334e-01,  1.42610681e+00],\n",
       "       [ 2.28301547e-01, -6.78956264e-01,  2.01843589e+00],\n",
       "       [-1.00351109e-01, -4.95677586e-01,  3.25014480e+00],\n",
       "       [-1.58302722e-02, -1.25816280e-01,  6.31237429e+00],\n",
       "       [-1.38565268e-01, -5.14603327e-01,  6.06936726e-01],\n",
       "       [-1.18680554e-01, -3.75811488e-01,  9.02093593e+00],\n",
       "       [ 1.57647589e-01, -6.57191964e-01,  1.23835485e+00],\n",
       "       [-8.90859983e-02, -5.31426497e-01,  1.28192523e+00],\n",
       "       [-9.64240373e-02, -9.38585979e-01,  4.92408382e-01],\n",
       "       [ 9.87115322e-02, -4.80233512e-01,  1.54065079e+00],\n",
       "       [ 1.00097465e-01, -5.50845855e-01,  1.31234290e+00],\n",
       "       [ 1.58484523e-01, -7.01017139e-01,  4.79743193e-01],\n",
       "       [ 3.41528905e-02, -8.27122893e-01,  1.23197216e+00],\n",
       "       [-3.50748172e-01, -6.59336279e-01,  1.86145266e+00],\n",
       "       [ 1.26059295e-01, -7.05149478e-01,  1.09260652e+00],\n",
       "       [ 9.96658429e-02, -6.37462304e-01,  3.59398046e+00],\n",
       "       [ 2.03627522e-01, -1.91245939e-01,  5.91741979e-01],\n",
       "       [-1.69293723e-01, -1.04400440e-01,  4.01437700e+00],\n",
       "       [ 5.04161527e-01, -8.49666776e-02,  1.36891374e+00],\n",
       "       [-2.46477223e-01, -5.78444379e-01,  2.39233477e+00],\n",
       "       [ 1.45390652e-01, -1.01552488e-01,  2.60491477e-01],\n",
       "       [ 9.19104482e-03, -4.12922407e-01,  1.87600754e+00],\n",
       "       [-9.74265291e-02, -3.38890008e-03,  1.54975952e+00],\n",
       "       [ 1.63226472e-01, -8.75737160e-01,  4.20261901e+00],\n",
       "       [-5.62860242e-02, -2.43168441e-01,  5.06666050e-01],\n",
       "       [-4.67124364e-01, -4.11731430e-01,  6.44975089e+00],\n",
       "       [-2.33455690e-01, -4.85433980e-01,  5.58427115e-01],\n",
       "       [ 9.15316143e-02, -2.41784405e-01,  6.15148913e+00],\n",
       "       [ 4.47593122e-01, -1.66718276e-01,  2.93937104e+00],\n",
       "       [-2.96251840e-01, -1.68912172e-01,  7.75333982e-01],\n",
       "       [-3.38906355e-03, -6.55881061e-01,  1.44365270e+01],\n",
       "       [ 2.90146709e-01, -6.19322943e-01,  4.98762953e-01],\n",
       "       [ 1.21374064e-01, -4.04714872e-01,  1.38822477e+00],\n",
       "       [-7.51241688e-02, -9.57128055e-01,  2.02803442e+00],\n",
       "       [-2.84384910e-01, -1.85294723e-01,  2.77814585e+00],\n",
       "       [-3.56230260e-01, -4.13976899e-01,  2.06760161e+00],\n",
       "       [-1.49581157e-01, -5.56495279e-01,  3.66610678e+00],\n",
       "       [-7.36819062e-02, -3.61865125e-01,  2.60972750e+00],\n",
       "       [-4.49823626e-01, -4.46484225e-02,  1.70352506e+00],\n",
       "       [-3.38735008e-01, -1.95788850e-01,  6.50793479e-01],\n",
       "       [ 6.07296931e-02, -3.43850308e-01,  1.16761475e+00],\n",
       "       [-8.17984676e-02, -7.92457659e-01,  4.06526740e+00],\n",
       "       [-1.50966118e-01, -2.82639819e-02,  5.13503051e-01],\n",
       "       [-8.15038330e-02, -6.12886253e-01,  1.84225767e+00],\n",
       "       [-1.62524952e-01, -9.47636913e-02,  2.12588570e-01],\n",
       "       [ 1.85503242e-01, -4.98945376e-01,  8.22332104e-01],\n",
       "       [ 3.27990813e-01, -3.27591718e-01,  3.25250187e-01],\n",
       "       [ 4.14723106e-01, -1.12597028e-01,  5.72327263e+00],\n",
       "       [ 1.41959572e-01, -9.41614245e-01,  2.66401904e-01],\n",
       "       [ 1.37357630e+00,  1.14737332e+00,  3.38110341e+01],\n",
       "       [ 1.73154774e+00,  1.08884679e+00,  2.34366500e+02],\n",
       "       [ 1.86922441e+00,  1.02328281e+00,  1.84521970e+02],\n",
       "       [ 1.73260244e+00,  1.17090414e+00,  2.56305329e+02],\n",
       "       [ 1.60614170e+00,  1.45770037e+00,  4.57011090e+02],\n",
       "       [ 6.82673750e-01,  1.12635814e+00,  1.40753488e+02],\n",
       "       [ 2.00150748e-01,  1.05651891e+00,  2.89801366e+02],\n",
       "       [ 1.43857641e+00,  1.47092247e+00,  4.89949606e+01],\n",
       "       [ 9.53083776e-01,  1.24665550e+00,  5.18689645e+01],\n",
       "       [ 9.72164483e-01,  1.23589551e+00,  1.61477998e+00],\n",
       "       [ 5.55289633e-01,  1.34392338e+00,  7.65091562e+01],\n",
       "       [ 3.49524274e-01,  1.40854241e+00,  6.88526388e+02],\n",
       "       [ 1.70108331e+00,  1.11345365e+00,  1.22325814e+01],\n",
       "       [ 1.23255050e+00,  1.10117643e+00,  5.26197116e+00],\n",
       "       [ 4.67483690e-01,  1.21224939e+00,  6.55274364e+01],\n",
       "       [ 1.19521030e+00,  1.42379647e+00,  5.27863630e+02],\n",
       "       [ 1.15280009e+00,  1.46356070e+00,  6.09810755e+02],\n",
       "       [ 1.26092475e+00,  1.09520168e+00,  2.71575369e+00],\n",
       "       [ 2.11663541e+00,  1.34472960e+00,  1.34295338e+02],\n",
       "       [ 9.82648949e-01,  1.22293434e+00,  1.46949121e+01],\n",
       "       [ 3.60188409e-01,  1.43905514e+00,  9.51012333e+01],\n",
       "       [ 1.01827132e+00,  1.14780555e+00,  5.97258228e-01],\n",
       "       [ 6.76821707e-01,  1.13510192e+00,  3.45010696e+02],\n",
       "       [ 1.27428392e+00,  1.01096595e+00,  2.47497841e+01],\n",
       "       [ 1.10527123e+00,  1.43567544e+00,  8.22710552e+01],\n",
       "       [ 1.17325088e+00,  1.08302989e+00,  3.81184322e+01],\n",
       "       [ 7.16474416e-01,  1.13926560e+00,  6.90377302e+00],\n",
       "       [ 1.20683940e+00,  1.12316560e+00,  1.56190292e+02],\n",
       "       [ 7.44871972e-01,  1.46102609e+00,  2.08355155e+01],\n",
       "       [ 1.25862968e+00,  1.04081408e+00,  1.37793037e+01],\n",
       "       [ 8.49497436e-01,  1.16832922e+00,  2.04054318e+02],\n",
       "       [ 4.40796784e-01,  1.34021752e+00,  4.61915445e+01],\n",
       "       [ 1.24926181e+00,  1.08278258e+00,  1.34768507e+01],\n",
       "       [ 6.46953065e-01,  1.28882925e+00,  3.57300189e+02],\n",
       "       [ 1.72194055e+00,  1.21232854e+00,  1.67628540e+01],\n",
       "       [ 1.22147813e+00,  1.00657004e+00,  5.12798570e+01],\n",
       "       [ 1.23385261e+00,  1.30330144e+00,  2.37091318e+02],\n",
       "       [ 1.05067240e+00,  1.17345844e+00,  3.60473811e+02],\n",
       "       [ 9.70324010e-01,  1.10576345e+00,  6.02037948e+02],\n",
       "       [-1.93348872e-01,  1.48757501e+00,  1.50040119e+03],\n",
       "       [ 1.61108528e+00,  1.41949111e+00,  5.97378831e+01],\n",
       "       [ 5.93043996e-01,  1.22435465e+00,  1.10634546e+01],\n",
       "       [ 1.47813093e+00,  1.16062452e+00,  1.47449088e+03],\n",
       "       [ 6.80744722e-01,  1.00704894e+00,  8.82902930e+02],\n",
       "       [ 9.28436791e-01,  1.36403492e+00,  3.00024017e+01],\n",
       "       [ 8.87905084e-01,  1.13316177e+00,  2.21940610e+02],\n",
       "       [ 4.80752380e-01,  1.25584498e+00,  2.56564981e+01],\n",
       "       [ 9.14145476e-01,  1.31300954e+00,  2.42394859e+00],\n",
       "       [ 1.23817309e+00,  1.37645300e+00,  4.35437484e+02],\n",
       "       [ 7.92910867e-01,  1.07907309e+00,  1.09082418e+02],\n",
       "       [ 3.67958328e-01,  1.04565831e+00,  6.97392684e+01],\n",
       "       [ 7.13392222e-01,  1.38703357e+00,  1.60360913e+03],\n",
       "       [ 1.12490866e+00,  1.02572897e+00,  9.58552451e+02],\n",
       "       [ 1.57360104e+00,  1.20330866e+00,  1.51311079e+01],\n",
       "       [ 1.41797198e+00,  1.01801175e+00,  5.94736276e+00],\n",
       "       [ 1.14370182e+00,  1.10389442e+00,  1.23441043e+00],\n",
       "       [ 5.02201851e-01,  1.09469885e+00,  5.52818461e+01],\n",
       "       [ 1.45344473e+00,  1.41995041e+00,  2.52228552e+01],\n",
       "       [ 1.01210537e+00,  1.37147086e+00,  1.12887789e+02],\n",
       "       [ 8.80009133e-01,  1.12233811e+00,  5.60193686e+01],\n",
       "       [ 1.45505528e+00,  1.29308405e+00,  1.46924718e+01],\n",
       "       [ 1.30892238e+00,  1.24729941e+00,  2.43200375e+01],\n",
       "       [ 1.24980902e+00,  1.04558085e+00,  2.42053198e+00],\n",
       "       [ 4.24227877e-01,  1.17890879e+00,  6.36993897e+02],\n",
       "       [ 6.94741800e-01,  1.37535049e+00,  1.88195412e+01],\n",
       "       [ 1.48057296e-01,  1.06438377e+00,  1.85807674e+02],\n",
       "       [ 1.09721869e+00,  1.11995034e+00,  1.46509238e+01],\n",
       "       [ 1.01412062e+00,  1.17821222e+00,  6.29099571e+01],\n",
       "       [ 1.46628025e+00,  1.00201089e+00,  1.92507209e+02],\n",
       "       [ 1.10602166e+00,  1.38672676e+00,  3.15759758e+01],\n",
       "       [ 8.16027716e-01,  1.19754591e+00,  1.06926836e+01],\n",
       "       [ 2.05574420e+00,  1.31933335e+00,  5.71254996e+03],\n",
       "       [ 4.85213253e-01,  1.26301714e+00,  3.67093084e+01],\n",
       "       [ 3.31859845e-01,  1.38968395e+00,  1.70127150e+02],\n",
       "       [ 6.94716321e-01,  1.32942259e+00,  4.64380527e+01],\n",
       "       [ 1.26234713e+00,  1.19937856e+00,  1.16294867e+01],\n",
       "       [ 8.25345937e-01,  1.06183081e+00,  7.56360853e+02],\n",
       "       [ 7.79630769e-01,  1.21200308e+00,  1.19381554e+02],\n",
       "       [ 4.39356200e-01,  1.00264383e+00,  1.07966861e+02],\n",
       "       [ 1.73642236e+00,  1.03908295e+00,  5.76195213e-01],\n",
       "       [ 6.88313881e-01,  1.41490420e+00,  9.69606772e+01],\n",
       "       [ 4.59649024e-01,  1.25838458e+00,  2.92692795e+02],\n",
       "       [ 9.38734954e-01,  1.39447245e+00,  9.61575254e+01],\n",
       "       [ 5.96128452e-01,  1.36955545e+00,  4.05741941e+01],\n",
       "       [ 8.83721888e-01,  1.26389968e+00,  5.93298227e+02],\n",
       "       [ 1.66757517e+00,  1.36364774e+00,  8.93191456e+01],\n",
       "       [ 7.76771637e-01,  1.47191146e+00,  1.74374419e+02],\n",
       "       [ 9.75105658e-01,  1.47421305e+00,  4.34126844e+02],\n",
       "       [ 8.15727610e-01,  1.12721573e+00,  4.04147408e+02],\n",
       "       [ 9.04130216e-01,  1.45419194e+00,  3.94134081e+00],\n",
       "       [ 1.40983996e+00,  1.23551286e+00,  1.06975042e+02],\n",
       "       [ 1.26581686e+00,  1.10419166e+00,  1.19025905e+01],\n",
       "       [ 8.29192482e-01,  1.20507385e+00,  9.84552412e-01],\n",
       "       [ 5.34549760e-01,  1.29196556e+00,  9.66261451e+01],\n",
       "       [ 9.32891503e-01,  1.44449968e+00,  1.68903578e+00],\n",
       "       [ 1.41629681e+00,  1.45168712e+00,  2.14781811e+01],\n",
       "       [ 9.91323366e-01,  1.27988769e+00,  3.61147184e-01],\n",
       "       [ 9.36170889e-01,  1.40358074e+00,  7.08482575e+00],\n",
       "       [ 9.60416879e-02,  1.26455768e+00,  2.13357217e+01],\n",
       "       [ 1.49698449e+00,  1.04753853e+00,  5.37574946e+01]])"
      ]
     },
     "execution_count": 303,
     "metadata": {},
     "output_type": "execute_result"
    }
   ],
   "source": [
    "train = np.append([normal], [uniforme], axis=0)\n",
    "train_200 = np.append(train, [sesgo], axis=0)\n",
    "\n",
    "train_200 = train_200.transpose()\n",
    "\n",
    "print(train_200.shape)\n",
    "train_200"
   ]
  },
  {
   "cell_type": "markdown",
   "id": "27e6ff55",
   "metadata": {},
   "source": [
    "ASIGNAMOS LAS ETIQUETAS - 20 ETIQUETAS"
   ]
  },
  {
   "cell_type": "code",
   "execution_count": 304,
   "id": "184fc6d4",
   "metadata": {},
   "outputs": [
    {
     "data": {
      "text/plain": [
       "array([0, 0, 0, 0, 0, 0, 0, 0, 0, 0, 1, 1, 1, 1, 1, 1, 1, 1, 1, 1])"
      ]
     },
     "execution_count": 304,
     "metadata": {},
     "output_type": "execute_result"
    }
   ],
   "source": [
    "array_zero = np.zeros(10, dtype=int)\n",
    "array_one = np.ones(10, dtype=int)\n",
    "\n",
    "y_train_20 = np.append(array_zero, array_one)\n",
    "y_train_20"
   ]
  },
  {
   "cell_type": "markdown",
   "id": "1a8b362e",
   "metadata": {},
   "source": [
    "ASIGNAMOS LAS ETIQUETAS - 200 ETIQUETAS"
   ]
  },
  {
   "cell_type": "code",
   "execution_count": 305,
   "id": "99205ea2",
   "metadata": {},
   "outputs": [
    {
     "data": {
      "text/plain": [
       "array([0, 0, 0, 0, 0, 0, 0, 0, 0, 0, 0, 0, 0, 0, 0, 0, 0, 0, 0, 0, 0, 0,\n",
       "       0, 0, 0, 0, 0, 0, 0, 0, 0, 0, 0, 0, 0, 0, 0, 0, 0, 0, 0, 0, 0, 0,\n",
       "       0, 0, 0, 0, 0, 0, 0, 0, 0, 0, 0, 0, 0, 0, 0, 0, 0, 0, 0, 0, 0, 0,\n",
       "       0, 0, 0, 0, 0, 0, 0, 0, 0, 0, 0, 0, 0, 0, 0, 0, 0, 0, 0, 0, 0, 0,\n",
       "       0, 0, 0, 0, 0, 0, 0, 0, 0, 0, 0, 0, 1, 1, 1, 1, 1, 1, 1, 1, 1, 1,\n",
       "       1, 1, 1, 1, 1, 1, 1, 1, 1, 1, 1, 1, 1, 1, 1, 1, 1, 1, 1, 1, 1, 1,\n",
       "       1, 1, 1, 1, 1, 1, 1, 1, 1, 1, 1, 1, 1, 1, 1, 1, 1, 1, 1, 1, 1, 1,\n",
       "       1, 1, 1, 1, 1, 1, 1, 1, 1, 1, 1, 1, 1, 1, 1, 1, 1, 1, 1, 1, 1, 1,\n",
       "       1, 1, 1, 1, 1, 1, 1, 1, 1, 1, 1, 1, 1, 1, 1, 1, 1, 1, 1, 1, 1, 1,\n",
       "       1, 1])"
      ]
     },
     "execution_count": 305,
     "metadata": {},
     "output_type": "execute_result"
    }
   ],
   "source": [
    "array_zero = np.zeros(100, dtype=int)\n",
    "array_one = np.ones(100, dtype=int)\n",
    "\n",
    "y_train_200 = np.append(array_zero, array_one)\n",
    "y_train_200"
   ]
  },
  {
   "cell_type": "markdown",
   "id": "dfcafeaf",
   "metadata": {},
   "source": [
    "CONJUNTO DE VALORES 20X3"
   ]
  },
  {
   "cell_type": "code",
   "execution_count": 306,
   "id": "d4ef404b",
   "metadata": {},
   "outputs": [
    {
     "data": {
      "text/html": [
       "<div>\n",
       "<style scoped>\n",
       "    .dataframe tbody tr th:only-of-type {\n",
       "        vertical-align: middle;\n",
       "    }\n",
       "\n",
       "    .dataframe tbody tr th {\n",
       "        vertical-align: top;\n",
       "    }\n",
       "\n",
       "    .dataframe thead th {\n",
       "        text-align: right;\n",
       "    }\n",
       "</style>\n",
       "<table border=\"1\" class=\"dataframe\">\n",
       "  <thead>\n",
       "    <tr style=\"text-align: right;\">\n",
       "      <th></th>\n",
       "      <th>Normal</th>\n",
       "      <th>Uniforme</th>\n",
       "      <th>Sesgada</th>\n",
       "    </tr>\n",
       "  </thead>\n",
       "  <tbody>\n",
       "    <tr>\n",
       "      <th>0</th>\n",
       "      <td>0.176779</td>\n",
       "      <td>-0.778007</td>\n",
       "      <td>0.363790</td>\n",
       "    </tr>\n",
       "    <tr>\n",
       "      <th>1</th>\n",
       "      <td>0.039173</td>\n",
       "      <td>-0.129268</td>\n",
       "      <td>3.141962</td>\n",
       "    </tr>\n",
       "    <tr>\n",
       "      <th>2</th>\n",
       "      <td>0.071507</td>\n",
       "      <td>-0.793281</td>\n",
       "      <td>0.618407</td>\n",
       "    </tr>\n",
       "    <tr>\n",
       "      <th>3</th>\n",
       "      <td>-0.468652</td>\n",
       "      <td>-0.081389</td>\n",
       "      <td>0.699875</td>\n",
       "    </tr>\n",
       "    <tr>\n",
       "      <th>4</th>\n",
       "      <td>-0.216967</td>\n",
       "      <td>-0.511589</td>\n",
       "      <td>0.689438</td>\n",
       "    </tr>\n",
       "    <tr>\n",
       "      <th>5</th>\n",
       "      <td>0.111939</td>\n",
       "      <td>-0.388256</td>\n",
       "      <td>1.080574</td>\n",
       "    </tr>\n",
       "    <tr>\n",
       "      <th>6</th>\n",
       "      <td>0.187894</td>\n",
       "      <td>-0.234092</td>\n",
       "      <td>4.465762</td>\n",
       "    </tr>\n",
       "    <tr>\n",
       "      <th>7</th>\n",
       "      <td>-0.195696</td>\n",
       "      <td>-0.481582</td>\n",
       "      <td>3.361614</td>\n",
       "    </tr>\n",
       "    <tr>\n",
       "      <th>8</th>\n",
       "      <td>0.100619</td>\n",
       "      <td>-0.703199</td>\n",
       "      <td>1.749175</td>\n",
       "    </tr>\n",
       "    <tr>\n",
       "      <th>9</th>\n",
       "      <td>0.081283</td>\n",
       "      <td>-0.812279</td>\n",
       "      <td>1.146472</td>\n",
       "    </tr>\n",
       "    <tr>\n",
       "      <th>10</th>\n",
       "      <td>1.161731</td>\n",
       "      <td>1.040371</td>\n",
       "      <td>54.958463</td>\n",
       "    </tr>\n",
       "    <tr>\n",
       "      <th>11</th>\n",
       "      <td>0.753295</td>\n",
       "      <td>1.369220</td>\n",
       "      <td>44.174121</td>\n",
       "    </tr>\n",
       "    <tr>\n",
       "      <th>12</th>\n",
       "      <td>0.603992</td>\n",
       "      <td>1.220655</td>\n",
       "      <td>266.695255</td>\n",
       "    </tr>\n",
       "    <tr>\n",
       "      <th>13</th>\n",
       "      <td>0.578816</td>\n",
       "      <td>1.079155</td>\n",
       "      <td>15.438382</td>\n",
       "    </tr>\n",
       "    <tr>\n",
       "      <th>14</th>\n",
       "      <td>0.360249</td>\n",
       "      <td>1.439969</td>\n",
       "      <td>53.925862</td>\n",
       "    </tr>\n",
       "    <tr>\n",
       "      <th>15</th>\n",
       "      <td>1.122858</td>\n",
       "      <td>1.137043</td>\n",
       "      <td>44.605839</td>\n",
       "    </tr>\n",
       "    <tr>\n",
       "      <th>16</th>\n",
       "      <td>0.977903</td>\n",
       "      <td>1.207118</td>\n",
       "      <td>49.174918</td>\n",
       "    </tr>\n",
       "    <tr>\n",
       "      <th>17</th>\n",
       "      <td>1.783816</td>\n",
       "      <td>1.148040</td>\n",
       "      <td>89.876393</td>\n",
       "    </tr>\n",
       "    <tr>\n",
       "      <th>18</th>\n",
       "      <td>1.525554</td>\n",
       "      <td>1.314394</td>\n",
       "      <td>81.070584</td>\n",
       "    </tr>\n",
       "    <tr>\n",
       "      <th>19</th>\n",
       "      <td>1.203184</td>\n",
       "      <td>1.289919</td>\n",
       "      <td>788.156874</td>\n",
       "    </tr>\n",
       "  </tbody>\n",
       "</table>\n",
       "</div>"
      ],
      "text/plain": [
       "      Normal  Uniforme     Sesgada\n",
       "0   0.176779 -0.778007    0.363790\n",
       "1   0.039173 -0.129268    3.141962\n",
       "2   0.071507 -0.793281    0.618407\n",
       "3  -0.468652 -0.081389    0.699875\n",
       "4  -0.216967 -0.511589    0.689438\n",
       "5   0.111939 -0.388256    1.080574\n",
       "6   0.187894 -0.234092    4.465762\n",
       "7  -0.195696 -0.481582    3.361614\n",
       "8   0.100619 -0.703199    1.749175\n",
       "9   0.081283 -0.812279    1.146472\n",
       "10  1.161731  1.040371   54.958463\n",
       "11  0.753295  1.369220   44.174121\n",
       "12  0.603992  1.220655  266.695255\n",
       "13  0.578816  1.079155   15.438382\n",
       "14  0.360249  1.439969   53.925862\n",
       "15  1.122858  1.137043   44.605839\n",
       "16  0.977903  1.207118   49.174918\n",
       "17  1.783816  1.148040   89.876393\n",
       "18  1.525554  1.314394   81.070584\n",
       "19  1.203184  1.289919  788.156874"
      ]
     },
     "execution_count": 306,
     "metadata": {},
     "output_type": "execute_result"
    }
   ],
   "source": [
    "train_20_pd = pd.DataFrame(train_20x3, columns=['Normal', 'Uniforme', 'Sesgada'])\n",
    "train_20_pd"
   ]
  },
  {
   "cell_type": "markdown",
   "id": "63557863",
   "metadata": {},
   "source": [
    "ETIQUETAS"
   ]
  },
  {
   "cell_type": "code",
   "execution_count": 307,
   "id": "73234597",
   "metadata": {},
   "outputs": [
    {
     "data": {
      "text/html": [
       "<div>\n",
       "<style scoped>\n",
       "    .dataframe tbody tr th:only-of-type {\n",
       "        vertical-align: middle;\n",
       "    }\n",
       "\n",
       "    .dataframe tbody tr th {\n",
       "        vertical-align: top;\n",
       "    }\n",
       "\n",
       "    .dataframe thead th {\n",
       "        text-align: right;\n",
       "    }\n",
       "</style>\n",
       "<table border=\"1\" class=\"dataframe\">\n",
       "  <thead>\n",
       "    <tr style=\"text-align: right;\">\n",
       "      <th></th>\n",
       "      <th>Normal</th>\n",
       "      <th>Uniforme</th>\n",
       "      <th>Sesgada</th>\n",
       "      <th>Label</th>\n",
       "    </tr>\n",
       "  </thead>\n",
       "  <tbody>\n",
       "    <tr>\n",
       "      <th>0</th>\n",
       "      <td>-0.062466</td>\n",
       "      <td>-0.778007</td>\n",
       "      <td>0.363790</td>\n",
       "      <td>0</td>\n",
       "    </tr>\n",
       "    <tr>\n",
       "      <th>1</th>\n",
       "      <td>0.067857</td>\n",
       "      <td>-0.129268</td>\n",
       "      <td>3.141962</td>\n",
       "      <td>0</td>\n",
       "    </tr>\n",
       "    <tr>\n",
       "      <th>2</th>\n",
       "      <td>-0.031182</td>\n",
       "      <td>-0.793281</td>\n",
       "      <td>0.618407</td>\n",
       "      <td>0</td>\n",
       "    </tr>\n",
       "    <tr>\n",
       "      <th>3</th>\n",
       "      <td>-0.100358</td>\n",
       "      <td>-0.081389</td>\n",
       "      <td>0.699875</td>\n",
       "      <td>0</td>\n",
       "    </tr>\n",
       "    <tr>\n",
       "      <th>4</th>\n",
       "      <td>0.047114</td>\n",
       "      <td>-0.511589</td>\n",
       "      <td>0.689438</td>\n",
       "      <td>0</td>\n",
       "    </tr>\n",
       "    <tr>\n",
       "      <th>5</th>\n",
       "      <td>-0.352721</td>\n",
       "      <td>-0.388256</td>\n",
       "      <td>1.080574</td>\n",
       "      <td>0</td>\n",
       "    </tr>\n",
       "    <tr>\n",
       "      <th>6</th>\n",
       "      <td>-0.219172</td>\n",
       "      <td>-0.234092</td>\n",
       "      <td>4.465762</td>\n",
       "      <td>0</td>\n",
       "    </tr>\n",
       "    <tr>\n",
       "      <th>7</th>\n",
       "      <td>-0.217553</td>\n",
       "      <td>-0.481582</td>\n",
       "      <td>3.361614</td>\n",
       "      <td>0</td>\n",
       "    </tr>\n",
       "    <tr>\n",
       "      <th>8</th>\n",
       "      <td>-0.061034</td>\n",
       "      <td>-0.703199</td>\n",
       "      <td>1.749175</td>\n",
       "      <td>0</td>\n",
       "    </tr>\n",
       "    <tr>\n",
       "      <th>9</th>\n",
       "      <td>-0.094750</td>\n",
       "      <td>-0.812279</td>\n",
       "      <td>1.146472</td>\n",
       "      <td>0</td>\n",
       "    </tr>\n",
       "    <tr>\n",
       "      <th>10</th>\n",
       "      <td>0.899703</td>\n",
       "      <td>1.040371</td>\n",
       "      <td>54.958463</td>\n",
       "      <td>1</td>\n",
       "    </tr>\n",
       "    <tr>\n",
       "      <th>11</th>\n",
       "      <td>1.177598</td>\n",
       "      <td>1.369220</td>\n",
       "      <td>44.174121</td>\n",
       "      <td>1</td>\n",
       "    </tr>\n",
       "    <tr>\n",
       "      <th>12</th>\n",
       "      <td>1.344759</td>\n",
       "      <td>1.220655</td>\n",
       "      <td>266.695255</td>\n",
       "      <td>1</td>\n",
       "    </tr>\n",
       "    <tr>\n",
       "      <th>13</th>\n",
       "      <td>1.205295</td>\n",
       "      <td>1.079155</td>\n",
       "      <td>15.438382</td>\n",
       "      <td>1</td>\n",
       "    </tr>\n",
       "    <tr>\n",
       "      <th>14</th>\n",
       "      <td>0.717511</td>\n",
       "      <td>1.439969</td>\n",
       "      <td>53.925862</td>\n",
       "      <td>1</td>\n",
       "    </tr>\n",
       "    <tr>\n",
       "      <th>15</th>\n",
       "      <td>1.299695</td>\n",
       "      <td>1.137043</td>\n",
       "      <td>44.605839</td>\n",
       "      <td>1</td>\n",
       "    </tr>\n",
       "    <tr>\n",
       "      <th>16</th>\n",
       "      <td>0.918532</td>\n",
       "      <td>1.207118</td>\n",
       "      <td>49.174918</td>\n",
       "      <td>1</td>\n",
       "    </tr>\n",
       "    <tr>\n",
       "      <th>17</th>\n",
       "      <td>1.800107</td>\n",
       "      <td>1.148040</td>\n",
       "      <td>89.876393</td>\n",
       "      <td>1</td>\n",
       "    </tr>\n",
       "    <tr>\n",
       "      <th>18</th>\n",
       "      <td>1.340814</td>\n",
       "      <td>1.314394</td>\n",
       "      <td>81.070584</td>\n",
       "      <td>1</td>\n",
       "    </tr>\n",
       "    <tr>\n",
       "      <th>19</th>\n",
       "      <td>1.007440</td>\n",
       "      <td>1.289919</td>\n",
       "      <td>788.156874</td>\n",
       "      <td>1</td>\n",
       "    </tr>\n",
       "  </tbody>\n",
       "</table>\n",
       "</div>"
      ],
      "text/plain": [
       "      Normal  Uniforme     Sesgada  Label\n",
       "0  -0.062466 -0.778007    0.363790      0\n",
       "1   0.067857 -0.129268    3.141962      0\n",
       "2  -0.031182 -0.793281    0.618407      0\n",
       "3  -0.100358 -0.081389    0.699875      0\n",
       "4   0.047114 -0.511589    0.689438      0\n",
       "5  -0.352721 -0.388256    1.080574      0\n",
       "6  -0.219172 -0.234092    4.465762      0\n",
       "7  -0.217553 -0.481582    3.361614      0\n",
       "8  -0.061034 -0.703199    1.749175      0\n",
       "9  -0.094750 -0.812279    1.146472      0\n",
       "10  0.899703  1.040371   54.958463      1\n",
       "11  1.177598  1.369220   44.174121      1\n",
       "12  1.344759  1.220655  266.695255      1\n",
       "13  1.205295  1.079155   15.438382      1\n",
       "14  0.717511  1.439969   53.925862      1\n",
       "15  1.299695  1.137043   44.605839      1\n",
       "16  0.918532  1.207118   49.174918      1\n",
       "17  1.800107  1.148040   89.876393      1\n",
       "18  1.340814  1.314394   81.070584      1\n",
       "19  1.007440  1.289919  788.156874      1"
      ]
     },
     "execution_count": 307,
     "metadata": {},
     "output_type": "execute_result"
    }
   ],
   "source": [
    "train_20_label = train_20x3_pd\n",
    "train_20_label['Label'] = y_train_20\n",
    "train_20_label"
   ]
  },
  {
   "cell_type": "markdown",
   "id": "221852c5",
   "metadata": {},
   "source": [
    "CONJUNTOS DE VALORES 200X3"
   ]
  },
  {
   "cell_type": "code",
   "execution_count": 308,
   "id": "a0b0ee62",
   "metadata": {
    "scrolled": true
   },
   "outputs": [
    {
     "data": {
      "text/html": [
       "<div>\n",
       "<style scoped>\n",
       "    .dataframe tbody tr th:only-of-type {\n",
       "        vertical-align: middle;\n",
       "    }\n",
       "\n",
       "    .dataframe tbody tr th {\n",
       "        vertical-align: top;\n",
       "    }\n",
       "\n",
       "    .dataframe thead th {\n",
       "        text-align: right;\n",
       "    }\n",
       "</style>\n",
       "<table border=\"1\" class=\"dataframe\">\n",
       "  <thead>\n",
       "    <tr style=\"text-align: right;\">\n",
       "      <th></th>\n",
       "      <th>Normal</th>\n",
       "      <th>Uniforme</th>\n",
       "      <th>Sesgada</th>\n",
       "    </tr>\n",
       "  </thead>\n",
       "  <tbody>\n",
       "    <tr>\n",
       "      <th>0</th>\n",
       "      <td>-0.017375</td>\n",
       "      <td>-0.623968</td>\n",
       "      <td>9.740789</td>\n",
       "    </tr>\n",
       "    <tr>\n",
       "      <th>1</th>\n",
       "      <td>0.312306</td>\n",
       "      <td>-0.644178</td>\n",
       "      <td>0.929477</td>\n",
       "    </tr>\n",
       "    <tr>\n",
       "      <th>2</th>\n",
       "      <td>-0.061171</td>\n",
       "      <td>-0.768967</td>\n",
       "      <td>3.634944</td>\n",
       "    </tr>\n",
       "    <tr>\n",
       "      <th>3</th>\n",
       "      <td>-0.095546</td>\n",
       "      <td>-0.973963</td>\n",
       "      <td>5.111608</td>\n",
       "    </tr>\n",
       "    <tr>\n",
       "      <th>4</th>\n",
       "      <td>0.020148</td>\n",
       "      <td>-0.268816</td>\n",
       "      <td>0.672271</td>\n",
       "    </tr>\n",
       "    <tr>\n",
       "      <th>...</th>\n",
       "      <td>...</td>\n",
       "      <td>...</td>\n",
       "      <td>...</td>\n",
       "    </tr>\n",
       "    <tr>\n",
       "      <th>195</th>\n",
       "      <td>1.416297</td>\n",
       "      <td>1.451687</td>\n",
       "      <td>21.478181</td>\n",
       "    </tr>\n",
       "    <tr>\n",
       "      <th>196</th>\n",
       "      <td>0.991323</td>\n",
       "      <td>1.279888</td>\n",
       "      <td>0.361147</td>\n",
       "    </tr>\n",
       "    <tr>\n",
       "      <th>197</th>\n",
       "      <td>0.936171</td>\n",
       "      <td>1.403581</td>\n",
       "      <td>7.084826</td>\n",
       "    </tr>\n",
       "    <tr>\n",
       "      <th>198</th>\n",
       "      <td>0.096042</td>\n",
       "      <td>1.264558</td>\n",
       "      <td>21.335722</td>\n",
       "    </tr>\n",
       "    <tr>\n",
       "      <th>199</th>\n",
       "      <td>1.496984</td>\n",
       "      <td>1.047539</td>\n",
       "      <td>53.757495</td>\n",
       "    </tr>\n",
       "  </tbody>\n",
       "</table>\n",
       "<p>200 rows × 3 columns</p>\n",
       "</div>"
      ],
      "text/plain": [
       "       Normal  Uniforme    Sesgada\n",
       "0   -0.017375 -0.623968   9.740789\n",
       "1    0.312306 -0.644178   0.929477\n",
       "2   -0.061171 -0.768967   3.634944\n",
       "3   -0.095546 -0.973963   5.111608\n",
       "4    0.020148 -0.268816   0.672271\n",
       "..        ...       ...        ...\n",
       "195  1.416297  1.451687  21.478181\n",
       "196  0.991323  1.279888   0.361147\n",
       "197  0.936171  1.403581   7.084826\n",
       "198  0.096042  1.264558  21.335722\n",
       "199  1.496984  1.047539  53.757495\n",
       "\n",
       "[200 rows x 3 columns]"
      ]
     },
     "execution_count": 308,
     "metadata": {},
     "output_type": "execute_result"
    }
   ],
   "source": [
    "train_200_pd = pd.DataFrame(train_200, columns=['Normal', 'Uniforme', 'Sesgada'])\n",
    "train_200_pd"
   ]
  },
  {
   "cell_type": "markdown",
   "id": "a98c9432",
   "metadata": {},
   "source": [
    "ETIQUETAS"
   ]
  },
  {
   "cell_type": "code",
   "execution_count": 309,
   "id": "7d10f510",
   "metadata": {},
   "outputs": [
    {
     "data": {
      "text/html": [
       "<div>\n",
       "<style scoped>\n",
       "    .dataframe tbody tr th:only-of-type {\n",
       "        vertical-align: middle;\n",
       "    }\n",
       "\n",
       "    .dataframe tbody tr th {\n",
       "        vertical-align: top;\n",
       "    }\n",
       "\n",
       "    .dataframe thead th {\n",
       "        text-align: right;\n",
       "    }\n",
       "</style>\n",
       "<table border=\"1\" class=\"dataframe\">\n",
       "  <thead>\n",
       "    <tr style=\"text-align: right;\">\n",
       "      <th></th>\n",
       "      <th>Normal</th>\n",
       "      <th>Uniforme</th>\n",
       "      <th>Sesgada</th>\n",
       "      <th>Label</th>\n",
       "    </tr>\n",
       "  </thead>\n",
       "  <tbody>\n",
       "    <tr>\n",
       "      <th>0</th>\n",
       "      <td>-0.017375</td>\n",
       "      <td>-0.623968</td>\n",
       "      <td>9.740789</td>\n",
       "      <td>0</td>\n",
       "    </tr>\n",
       "    <tr>\n",
       "      <th>1</th>\n",
       "      <td>0.312306</td>\n",
       "      <td>-0.644178</td>\n",
       "      <td>0.929477</td>\n",
       "      <td>0</td>\n",
       "    </tr>\n",
       "    <tr>\n",
       "      <th>2</th>\n",
       "      <td>-0.061171</td>\n",
       "      <td>-0.768967</td>\n",
       "      <td>3.634944</td>\n",
       "      <td>0</td>\n",
       "    </tr>\n",
       "    <tr>\n",
       "      <th>3</th>\n",
       "      <td>-0.095546</td>\n",
       "      <td>-0.973963</td>\n",
       "      <td>5.111608</td>\n",
       "      <td>0</td>\n",
       "    </tr>\n",
       "    <tr>\n",
       "      <th>4</th>\n",
       "      <td>0.020148</td>\n",
       "      <td>-0.268816</td>\n",
       "      <td>0.672271</td>\n",
       "      <td>0</td>\n",
       "    </tr>\n",
       "    <tr>\n",
       "      <th>...</th>\n",
       "      <td>...</td>\n",
       "      <td>...</td>\n",
       "      <td>...</td>\n",
       "      <td>...</td>\n",
       "    </tr>\n",
       "    <tr>\n",
       "      <th>195</th>\n",
       "      <td>1.416297</td>\n",
       "      <td>1.451687</td>\n",
       "      <td>21.478181</td>\n",
       "      <td>1</td>\n",
       "    </tr>\n",
       "    <tr>\n",
       "      <th>196</th>\n",
       "      <td>0.991323</td>\n",
       "      <td>1.279888</td>\n",
       "      <td>0.361147</td>\n",
       "      <td>1</td>\n",
       "    </tr>\n",
       "    <tr>\n",
       "      <th>197</th>\n",
       "      <td>0.936171</td>\n",
       "      <td>1.403581</td>\n",
       "      <td>7.084826</td>\n",
       "      <td>1</td>\n",
       "    </tr>\n",
       "    <tr>\n",
       "      <th>198</th>\n",
       "      <td>0.096042</td>\n",
       "      <td>1.264558</td>\n",
       "      <td>21.335722</td>\n",
       "      <td>1</td>\n",
       "    </tr>\n",
       "    <tr>\n",
       "      <th>199</th>\n",
       "      <td>1.496984</td>\n",
       "      <td>1.047539</td>\n",
       "      <td>53.757495</td>\n",
       "      <td>1</td>\n",
       "    </tr>\n",
       "  </tbody>\n",
       "</table>\n",
       "<p>200 rows × 4 columns</p>\n",
       "</div>"
      ],
      "text/plain": [
       "       Normal  Uniforme    Sesgada  Label\n",
       "0   -0.017375 -0.623968   9.740789      0\n",
       "1    0.312306 -0.644178   0.929477      0\n",
       "2   -0.061171 -0.768967   3.634944      0\n",
       "3   -0.095546 -0.973963   5.111608      0\n",
       "4    0.020148 -0.268816   0.672271      0\n",
       "..        ...       ...        ...    ...\n",
       "195  1.416297  1.451687  21.478181      1\n",
       "196  0.991323  1.279888   0.361147      1\n",
       "197  0.936171  1.403581   7.084826      1\n",
       "198  0.096042  1.264558  21.335722      1\n",
       "199  1.496984  1.047539  53.757495      1\n",
       "\n",
       "[200 rows x 4 columns]"
      ]
     },
     "execution_count": 309,
     "metadata": {},
     "output_type": "execute_result"
    }
   ],
   "source": [
    "train_200_label = train_200_pd\n",
    "train_200_label['Label'] = y_train_200\n",
    "train_200_label"
   ]
  },
  {
   "cell_type": "markdown",
   "id": "dfe2c4ca",
   "metadata": {},
   "source": [
    "ENTRENANDO EL MODELO CON 20 VALORES"
   ]
  },
  {
   "cell_type": "code",
   "execution_count": 310,
   "id": "3e3b41e3",
   "metadata": {},
   "outputs": [
    {
     "data": {
      "text/plain": [
       "LogisticRegression(random_state=0)"
      ]
     },
     "execution_count": 310,
     "metadata": {},
     "output_type": "execute_result"
    }
   ],
   "source": [
    "from sklearn.linear_model import LogisticRegression\n",
    "\n",
    "logreg_20 = LogisticRegression(random_state=0)\n",
    "\n",
    "logreg_20.fit(train_20x3, y_train_20)"
   ]
  },
  {
   "cell_type": "markdown",
   "id": "cbe442ea",
   "metadata": {},
   "source": [
    "PREDICCIÓN DEL MODELO CON LOS 20 VALORES"
   ]
  },
  {
   "cell_type": "code",
   "execution_count": 311,
   "id": "8fd6b9cf",
   "metadata": {},
   "outputs": [
    {
     "data": {
      "text/plain": [
       "array([0, 0, 0, 0, 0, 0, 0, 0, 0, 0, 1, 1, 1, 1, 1, 1, 1, 1, 1, 1])"
      ]
     },
     "execution_count": 311,
     "metadata": {},
     "output_type": "execute_result"
    }
   ],
   "source": [
    "y_test_20 = logreg_20.predict(train_20x3)\n",
    "y_test_20"
   ]
  },
  {
   "cell_type": "markdown",
   "id": "9160207b",
   "metadata": {},
   "source": [
    "ENTRENANDO EL MODELO CON 200 VALORES"
   ]
  },
  {
   "cell_type": "code",
   "execution_count": 312,
   "id": "cac858a5",
   "metadata": {},
   "outputs": [
    {
     "data": {
      "text/plain": [
       "LogisticRegression(random_state=0)"
      ]
     },
     "execution_count": 312,
     "metadata": {},
     "output_type": "execute_result"
    }
   ],
   "source": [
    "logreg_200 = LogisticRegression(random_state=0)\n",
    "\n",
    "logreg_200.fit(train_200, y_train_200)"
   ]
  },
  {
   "cell_type": "markdown",
   "id": "c5b49758",
   "metadata": {},
   "source": [
    "PREDICCIÓN DEL MODELO CON 200 VALORES"
   ]
  },
  {
   "cell_type": "code",
   "execution_count": 313,
   "id": "dd3ffb2c",
   "metadata": {},
   "outputs": [
    {
     "data": {
      "text/plain": [
       "array([0, 0, 0, 0, 0, 0, 0, 0, 0, 0, 0, 0, 0, 0, 0, 0, 0, 0, 0, 0, 0, 0,\n",
       "       0, 0, 0, 0, 0, 0, 0, 0, 0, 0, 0, 0, 0, 0, 0, 0, 0, 0, 0, 0, 0, 0,\n",
       "       0, 0, 0, 0, 0, 0, 0, 0, 0, 0, 0, 0, 0, 0, 0, 0, 0, 0, 0, 0, 0, 0,\n",
       "       0, 0, 0, 0, 0, 0, 0, 0, 0, 0, 0, 0, 0, 0, 0, 0, 0, 0, 0, 0, 0, 0,\n",
       "       0, 0, 0, 0, 0, 0, 0, 0, 0, 0, 0, 0, 1, 1, 1, 1, 1, 1, 1, 1, 1, 1,\n",
       "       1, 1, 1, 1, 1, 1, 1, 1, 1, 1, 1, 1, 1, 1, 1, 1, 1, 1, 1, 1, 1, 1,\n",
       "       1, 1, 1, 1, 1, 1, 1, 1, 1, 1, 1, 1, 1, 1, 1, 1, 1, 1, 1, 1, 1, 1,\n",
       "       1, 1, 1, 1, 1, 1, 1, 1, 1, 1, 1, 1, 1, 1, 1, 1, 1, 1, 1, 1, 1, 1,\n",
       "       1, 1, 1, 1, 1, 1, 1, 1, 1, 1, 1, 1, 1, 1, 1, 1, 1, 1, 1, 1, 1, 1,\n",
       "       1, 1])"
      ]
     },
     "execution_count": 313,
     "metadata": {},
     "output_type": "execute_result"
    }
   ],
   "source": [
    "y_test_200 = logreg_200.predict(train_200)\n",
    "y_test_200"
   ]
  },
  {
   "cell_type": "markdown",
   "id": "f49a93a8",
   "metadata": {},
   "source": [
    "ACIERTO CON 20 VALORES"
   ]
  },
  {
   "cell_type": "code",
   "execution_count": 314,
   "id": "605d6010",
   "metadata": {},
   "outputs": [
    {
     "name": "stdout",
     "output_type": "stream",
     "text": [
      "Model accuracy score: 1.0000\n"
     ]
    }
   ],
   "source": [
    "from sklearn.metrics import accuracy_score\n",
    "\n",
    "print('Model accuracy score: {0:0.4f}'. format(accuracy_score(y_train_20, y_test_20)))"
   ]
  },
  {
   "cell_type": "markdown",
   "id": "c344c3c7",
   "metadata": {},
   "source": [
    "ACIERTOS CON 200 VALORES\n"
   ]
  },
  {
   "cell_type": "code",
   "execution_count": 315,
   "id": "a519dd5e",
   "metadata": {},
   "outputs": [
    {
     "name": "stdout",
     "output_type": "stream",
     "text": [
      "Model accuracy score: 1.0000\n"
     ]
    }
   ],
   "source": [
    "from sklearn.metrics import accuracy_score\n",
    "\n",
    "print('Model accuracy score: {0:0.4f}'. format(accuracy_score(y_train_200, y_test_200)))"
   ]
  },
  {
   "cell_type": "markdown",
   "id": "e6929e49",
   "metadata": {},
   "source": [
    "REALIZAMOS LA IMPORTACIÓN DEL MÓDULO - MATRIZ DE CONFUSIÓN"
   ]
  },
  {
   "cell_type": "code",
   "execution_count": 316,
   "id": "a48baf3c",
   "metadata": {},
   "outputs": [
    {
     "name": "stdout",
     "output_type": "stream",
     "text": [
      "Confusion matrix\n",
      "\n",
      " [[10  0]\n",
      " [ 0 10]]\n",
      "\n",
      "True Positives(TP) =  10\n",
      "\n",
      "True Negatives(TN) =  10\n",
      "\n",
      "False Positives(FP) =  0\n",
      "\n",
      "False Negatives(FN) =  0\n"
     ]
    },
    {
     "data": {
      "text/plain": [
       "<AxesSubplot:>"
      ]
     },
     "execution_count": 316,
     "metadata": {},
     "output_type": "execute_result"
    },
    {
     "data": {
      "image/png": "[encoded data removed]",
      "text/plain": [
       "<Figure size 432x288 with 2 Axes>"
      ]
     },
     "metadata": {
      "needs_background": "light"
     },
     "output_type": "display_data"
    }
   ],
   "source": [
    "from sklearn.metrics import confusion_matrix\n",
    "\n",
    "\n",
    "cm = confusion_matrix(y_train_20, y_test_20)\n",
    "\n",
    "\n",
    "print('Confusion matrix\\n\\n', cm)\n",
    "print('\\nTrue Positives(TP) = ', cm[0,0])\n",
    "print('\\nTrue Negatives(TN) = ', cm[1,1])\n",
    "print('\\nFalse Positives(FP) = ', cm[0,1])\n",
    "print('\\nFalse Negatives(FN) = ', cm[1,0])\n",
    "\n",
    "\n",
    "cm_matrix = pd.DataFrame(data=cm, columns=['Actual Positive:1', 'Actual Negative:0'], \n",
    "                                 index=['Predict Positive:1', 'Predict Negative:0'])\n",
    "\n",
    "sns.heatmap(cm_matrix, annot=True, fmt='d', cmap='YlGnBu')"
   ]
  },
  {
   "cell_type": "markdown",
   "id": "f2f55866",
   "metadata": {},
   "source": [
    "CLASIFICACIÓN DEL MODELO CON 20 VALORES"
   ]
  },
  {
   "cell_type": "code",
   "execution_count": 317,
   "id": "5be3b7df",
   "metadata": {
    "scrolled": true
   },
   "outputs": [
    {
     "name": "stdout",
     "output_type": "stream",
     "text": [
      "              precision    recall  f1-score   support\n",
      "\n",
      "           0       1.00      1.00      1.00        10\n",
      "           1       1.00      1.00      1.00        10\n",
      "\n",
      "    accuracy                           1.00        20\n",
      "   macro avg       1.00      1.00      1.00        20\n",
      "weighted avg       1.00      1.00      1.00        20\n",
      "\n"
     ]
    }
   ],
   "source": [
    "from sklearn.metrics import classification_report\n",
    "print(classification_report(y_train_20, y_test_20))"
   ]
  },
  {
   "cell_type": "markdown",
   "id": "512de6dc",
   "metadata": {},
   "source": [
    "REALIZAMOS LA IMPORTACIÓN DEL MÓDULO - MATRIZ DE CONFUSIÓN"
   ]
  },
  {
   "cell_type": "code",
   "execution_count": 318,
   "id": "4192ac93",
   "metadata": {
    "scrolled": true
   },
   "outputs": [
    {
     "name": "stdout",
     "output_type": "stream",
     "text": [
      "Confusion matrix\n",
      "\n",
      " [[100   0]\n",
      " [  0 100]]\n",
      "\n",
      "True Positives(TP) =  100\n",
      "\n",
      "True Negatives(TN) =  100\n",
      "\n",
      "False Positives(FP) =  0\n",
      "\n",
      "False Negatives(FN) =  0\n"
     ]
    },
    {
     "data": {
      "text/plain": [
       "<AxesSubplot:>"
      ]
     },
     "execution_count": 318,
     "metadata": {},
     "output_type": "execute_result"
    },
    {
     "data": {
      "image/png": "[encoded data removed]",
      "text/plain": [
       "<Figure size 432x288 with 2 Axes>"
      ]
     },
     "metadata": {
      "needs_background": "light"
     },
     "output_type": "display_data"
    }
   ],
   "source": [
    "from sklearn.metrics import confusion_matrix\n",
    "\n",
    "cm = confusion_matrix(y_train_200, y_test_200)\n",
    "\n",
    "\n",
    "print('Confusion matrix\\n\\n', cm)\n",
    "print('\\nTrue Positives(TP) = ', cm[0,0])\n",
    "print('\\nTrue Negatives(TN) = ', cm[1,1])\n",
    "print('\\nFalse Positives(FP) = ', cm[0,1])\n",
    "print('\\nFalse Negatives(FN) = ', cm[1,0])\n",
    "\n",
    "\n",
    "cm_matrix = pd.DataFrame(data=cm, columns=['Actual Positive:1', 'Actual Negative:0'], \n",
    "                                 index=['Predict Positive:1', 'Predict Negative:0'])\n",
    "\n",
    "sns.heatmap(cm_matrix, annot=True, fmt='d', cmap='YlGnBu')"
   ]
  },
  {
   "cell_type": "markdown",
   "id": "3fb3aa8d",
   "metadata": {},
   "source": [
    "CLASIFICACIÓN DEL MODELO CON 200 VALORES"
   ]
  },
  {
   "cell_type": "code",
   "execution_count": 319,
   "id": "7cbe009f",
   "metadata": {},
   "outputs": [
    {
     "name": "stdout",
     "output_type": "stream",
     "text": [
      "              precision    recall  f1-score   support\n",
      "\n",
      "           0       1.00      1.00      1.00       100\n",
      "           1       1.00      1.00      1.00       100\n",
      "\n",
      "    accuracy                           1.00       200\n",
      "   macro avg       1.00      1.00      1.00       200\n",
      "weighted avg       1.00      1.00      1.00       200\n",
      "\n"
     ]
    }
   ],
   "source": [
    "from sklearn.metrics import classification_report\n",
    "print(classification_report(y_train_200, y_test_200))"
   ]
  },
  {
   "cell_type": "code",
   "execution_count": null,
   "id": "f56a8bdd",
   "metadata": {},
   "outputs": [],
   "source": []
  },
  {
   "cell_type": "code",
   "execution_count": null,
   "id": "eef39075",
   "metadata": {},
   "outputs": [],
   "source": []
  },
  {
   "cell_type": "code",
   "execution_count": null,
   "id": "7f8daec2",
   "metadata": {},
   "outputs": [],
   "source": []
  },
  {
   "cell_type": "code",
   "execution_count": null,
   "id": "4ed5ed6e",
   "metadata": {},
   "outputs": [],
   "source": []
  },
  {
   "cell_type": "code",
   "execution_count": null,
   "id": "e9e19b01",
   "metadata": {},
   "outputs": [],
   "source": []
  },
  {
   "cell_type": "code",
   "execution_count": null,
   "id": "48e71c5f",
   "metadata": {},
   "outputs": [],
   "source": []
  },
  {
   "cell_type": "code",
   "execution_count": null,
   "id": "9379b218",
   "metadata": {},
   "outputs": [],
   "source": []
  },
  {
   "cell_type": "code",
   "execution_count": null,
   "id": "b3816c9b",
   "metadata": {},
   "outputs": [],
   "source": []
  },
  {
   "cell_type": "code",
   "execution_count": null,
   "id": "d738cf3e",
   "metadata": {},
   "outputs": [],
   "source": []
  }
 ],
 "metadata": {
  "kernelspec": {
   "display_name": "Python 3 (ipykernel)",
   "language": "python",
   "name": "python3"
  },
  "language_info": {
   "codemirror_mode": {
    "name": "ipython",
    "version": 3
   },
   "file_extension": ".py",
   "mimetype": "text/x-python",
   "name": "python",
   "nbconvert_exporter": "python",
   "pygments_lexer": "ipython3",
   "version": "3.9.7"
  }
 },
 "nbformat": 4,
 "nbformat_minor": 5
}
